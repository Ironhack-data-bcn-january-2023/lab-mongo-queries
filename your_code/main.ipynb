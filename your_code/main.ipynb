{
 "cells": [
  {
   "cell_type": "markdown",
   "metadata": {},
   "source": [
    "# Advanced Querying Mongo"
   ]
  },
  {
   "cell_type": "markdown",
   "metadata": {},
   "source": [
    "**⚠️ IMPORTANT: Limit your print to avoid infinite scrolling. Otherwise your\n",
    "code will be lost between print lines. If working with lists do:**\n",
    "\n",
    "```python\n",
    "list(collection.find(query))[:5] #or a reasonably low number\n",
    "```"
   ]
  },
  {
   "cell_type": "markdown",
   "metadata": {},
   "source": [
    "Importing libraries and setting up connection"
   ]
  },
  {
   "cell_type": "code",
   "execution_count": 39,
   "metadata": {},
   "outputs": [],
   "source": [
    "from pymongo import MongoClient\n",
    "import pandas as pd\n",
    "import time\n",
    "\n",
    "# client = MongoClient(\"\")"
   ]
  },
  {
   "cell_type": "code",
   "execution_count": 40,
   "metadata": {},
   "outputs": [
    {
     "data": {
      "text/plain": [
       "Database(MongoClient(host=['localhost:27017'], document_class=dict, tz_aware=False, connect=True), 'ironhack')"
      ]
     },
     "execution_count": 40,
     "metadata": {},
     "output_type": "execute_result"
    }
   ],
   "source": [
    "client = MongoClient(\"localhost:27017\")\n",
    "\n",
    "db = client[\"ironhack\"]\n",
    "\n",
    "db"
   ]
  },
  {
   "cell_type": "code",
   "execution_count": 41,
   "metadata": {},
   "outputs": [
    {
     "data": {
      "text/plain": [
       "['Crunchbase', 'restaurants']"
      ]
     },
     "execution_count": 41,
     "metadata": {},
     "output_type": "execute_result"
    }
   ],
   "source": [
    "db.list_collection_names()"
   ]
  },
  {
   "cell_type": "code",
   "execution_count": 42,
   "metadata": {},
   "outputs": [],
   "source": [
    "c = db.get_collection(\"Crunchbase\")"
   ]
  },
  {
   "cell_type": "code",
   "execution_count": 43,
   "metadata": {},
   "outputs": [
    {
     "data": {
      "text/plain": [
       "{'_id': ObjectId('52cdef7c4bab8bd675297d8a'),\n",
       " 'name': 'Wetpaint',\n",
       " 'permalink': 'abc2',\n",
       " 'crunchbase_url': 'http://www.crunchbase.com/company/wetpaint',\n",
       " 'homepage_url': 'http://wetpaint-inc.com',\n",
       " 'blog_url': 'http://digitalquarters.net/',\n",
       " 'blog_feed_url': 'http://digitalquarters.net/feed/',\n",
       " 'twitter_username': 'BachelrWetpaint',\n",
       " 'category_code': 'web',\n",
       " 'number_of_employees': 47,\n",
       " 'founded_year': 2005,\n",
       " 'founded_month': 10,\n",
       " 'founded_day': 17,\n",
       " 'deadpooled_year': 1,\n",
       " 'tag_list': 'wiki, seattle, elowitz, media-industry, media-platform, social-distribution-system',\n",
       " 'alias_list': '',\n",
       " 'email_address': 'info@wetpaint.com',\n",
       " 'phone_number': '206.859.6300',\n",
       " 'description': 'Technology Platform Company',\n",
       " 'created_at': datetime.datetime(2007, 5, 25, 6, 51, 27),\n",
       " 'updated_at': 'Sun Dec 08 07:15:44 UTC 2013',\n",
       " 'overview': '<p>Wetpaint is a technology platform company that uses its proprietary state-of-the-art technology and expertise in social media to build and monetize audiences for digital publishers. Wetpaint’s own online property, Wetpaint Entertainment, an entertainment news site that attracts more than 12 million unique visitors monthly and has over 2 million Facebook fans, is a proof point to the company’s success in building and engaging audiences. Media companies can license Wetpaint’s platform which includes a dynamic playbook tailored to their individual needs and comprehensive training. Founded by Internet pioneer Ben Elowitz, and with offices in New York and Seattle, Wetpaint is backed by Accel Partners, the investors behind Facebook.</p>',\n",
       " 'image': {'available_sizes': [[[150, 75],\n",
       "    'assets/images/resized/0000/3604/3604v14-max-150x150.jpg'],\n",
       "   [[250, 125], 'assets/images/resized/0000/3604/3604v14-max-250x250.jpg'],\n",
       "   [[450, 225], 'assets/images/resized/0000/3604/3604v14-max-450x450.jpg']]},\n",
       " 'products': [{'name': 'Wikison Wetpaint', 'permalink': 'wetpaint-wiki'},\n",
       "  {'name': 'Wetpaint Social Distribution System',\n",
       "   'permalink': 'wetpaint-social-distribution-system'}],\n",
       " 'relationships': [{'is_past': False,\n",
       "   'title': 'Co-Founder and VP, Social and Audience Development',\n",
       "   'person': {'first_name': 'Michael',\n",
       "    'last_name': 'Howell',\n",
       "    'permalink': 'michael-howell'}},\n",
       "  {'is_past': False,\n",
       "   'title': 'Co-Founder/CEO/Board of Directors',\n",
       "   'person': {'first_name': 'Ben',\n",
       "    'last_name': 'Elowitz',\n",
       "    'permalink': 'ben-elowitz'}},\n",
       "  {'is_past': False,\n",
       "   'title': 'COO/Board of Directors',\n",
       "   'person': {'first_name': 'Rob',\n",
       "    'last_name': 'Grady',\n",
       "    'permalink': 'rob-grady'}},\n",
       "  {'is_past': False,\n",
       "   'title': 'SVP, Strategy and Business Development',\n",
       "   'person': {'first_name': 'Chris',\n",
       "    'last_name': 'Kollas',\n",
       "    'permalink': 'chris-kollas'}},\n",
       "  {'is_past': False,\n",
       "   'title': 'Board',\n",
       "   'person': {'first_name': 'Theresia',\n",
       "    'last_name': 'Ranzetta',\n",
       "    'permalink': 'theresia-ranzetta'}},\n",
       "  {'is_past': False,\n",
       "   'title': 'Board Member',\n",
       "   'person': {'first_name': 'Gus',\n",
       "    'last_name': 'Tai',\n",
       "    'permalink': 'gus-tai'}},\n",
       "  {'is_past': False,\n",
       "   'title': 'Board',\n",
       "   'person': {'first_name': 'Len',\n",
       "    'last_name': 'Jordan',\n",
       "    'permalink': 'len-jordan'}},\n",
       "  {'is_past': False,\n",
       "   'title': 'Head of Technology and Product',\n",
       "   'person': {'first_name': 'Alex',\n",
       "    'last_name': 'Weinstein',\n",
       "    'permalink': 'alex-weinstein'}},\n",
       "  {'is_past': True,\n",
       "   'title': 'CFO',\n",
       "   'person': {'first_name': 'Bert',\n",
       "    'last_name': 'Hogue',\n",
       "    'permalink': 'bert-hogue'}},\n",
       "  {'is_past': True,\n",
       "   'title': 'CFO/ CRO',\n",
       "   'person': {'first_name': 'Brian',\n",
       "    'last_name': 'Watkins',\n",
       "    'permalink': 'brian-watkins'}},\n",
       "  {'is_past': True,\n",
       "   'title': 'Senior Vice President, Marketing',\n",
       "   'person': {'first_name': 'Rob',\n",
       "    'last_name': 'Grady',\n",
       "    'permalink': 'rob-grady'}},\n",
       "  {'is_past': True,\n",
       "   'title': 'VP, Technology and Product',\n",
       "   'person': {'first_name': 'Werner',\n",
       "    'last_name': 'Koepf',\n",
       "    'permalink': 'werner-koepf'}},\n",
       "  {'is_past': True,\n",
       "   'title': 'VP Marketing',\n",
       "   'person': {'first_name': 'Kevin',\n",
       "    'last_name': 'Flaherty',\n",
       "    'permalink': 'kevin-flaherty'}},\n",
       "  {'is_past': True,\n",
       "   'title': 'VP User Experience',\n",
       "   'person': {'first_name': 'Alex',\n",
       "    'last_name': 'Berg',\n",
       "    'permalink': 'alex-berg'}},\n",
       "  {'is_past': True,\n",
       "   'title': 'VP Engineering',\n",
       "   'person': {'first_name': 'Steve',\n",
       "    'last_name': 'McQuade',\n",
       "    'permalink': 'steve-mcquade'}},\n",
       "  {'is_past': True,\n",
       "   'title': 'Executive Editor',\n",
       "   'person': {'first_name': 'Susan',\n",
       "    'last_name': 'Mulcahy',\n",
       "    'permalink': 'susan-mulcahy'}},\n",
       "  {'is_past': True,\n",
       "   'title': 'VP Business Development',\n",
       "   'person': {'first_name': 'Chris',\n",
       "    'last_name': 'Kollas',\n",
       "    'permalink': 'chris-kollas'}}],\n",
       " 'competitions': [{'competitor': {'name': 'Wikia', 'permalink': 'wikia'}},\n",
       "  {'competitor': {'name': 'JotSpot', 'permalink': 'jotspot'}},\n",
       "  {'competitor': {'name': 'Socialtext', 'permalink': 'socialtext'}},\n",
       "  {'competitor': {'name': 'Ning by Glam Media', 'permalink': 'ning'}},\n",
       "  {'competitor': {'name': 'Soceeo', 'permalink': 'soceeo'}},\n",
       "  {'competitor': {'name': 'Yola', 'permalink': 'yola'}},\n",
       "  {'competitor': {'name': 'SocialGO', 'permalink': 'socialgo'}},\n",
       "  {'competitor': {'name': 'IslamNor', 'permalink': 'islamnor'}}],\n",
       " 'providerships': [],\n",
       " 'total_money_raised': '$39.8M',\n",
       " 'funding_rounds': [{'id': 888,\n",
       "   'round_code': 'a',\n",
       "   'source_url': 'http://seattlepi.nwsource.com/business/246734_wiki02.html',\n",
       "   'source_description': '',\n",
       "   'raised_amount': 5250000,\n",
       "   'raised_currency_code': 'USD',\n",
       "   'funded_year': 2005,\n",
       "   'funded_month': 10,\n",
       "   'funded_day': 1,\n",
       "   'investments': [{'company': None,\n",
       "     'financial_org': {'name': 'Frazier Technology Ventures',\n",
       "      'permalink': 'frazier-technology-ventures'},\n",
       "     'person': None},\n",
       "    {'company': None,\n",
       "     'financial_org': {'name': 'Trinity Ventures',\n",
       "      'permalink': 'trinity-ventures'},\n",
       "     'person': None}]},\n",
       "  {'id': 889,\n",
       "   'round_code': 'b',\n",
       "   'source_url': 'http://pulse2.com/2007/01/09/wiki-builder-website-wetpaint-welcomes-95m-funding/',\n",
       "   'source_description': '',\n",
       "   'raised_amount': 9500000,\n",
       "   'raised_currency_code': 'USD',\n",
       "   'funded_year': 2007,\n",
       "   'funded_month': 1,\n",
       "   'funded_day': 1,\n",
       "   'investments': [{'company': None,\n",
       "     'financial_org': {'name': 'Accel Partners',\n",
       "      'permalink': 'accel-partners'},\n",
       "     'person': None},\n",
       "    {'company': None,\n",
       "     'financial_org': {'name': 'Frazier Technology Ventures',\n",
       "      'permalink': 'frazier-technology-ventures'},\n",
       "     'person': None},\n",
       "    {'company': None,\n",
       "     'financial_org': {'name': 'Trinity Ventures',\n",
       "      'permalink': 'trinity-ventures'},\n",
       "     'person': None}]},\n",
       "  {'id': 2312,\n",
       "   'round_code': 'c',\n",
       "   'source_url': 'http://www.accel.com/news/news_one_up.php?news_id=185',\n",
       "   'source_description': 'Accel',\n",
       "   'raised_amount': 25000000,\n",
       "   'raised_currency_code': 'USD',\n",
       "   'funded_year': 2008,\n",
       "   'funded_month': 5,\n",
       "   'funded_day': 19,\n",
       "   'investments': [{'company': None,\n",
       "     'financial_org': {'name': 'DAG Ventures', 'permalink': 'dag-ventures'},\n",
       "     'person': None},\n",
       "    {'company': None,\n",
       "     'financial_org': {'name': 'Accel Partners',\n",
       "      'permalink': 'accel-partners'},\n",
       "     'person': None},\n",
       "    {'company': None,\n",
       "     'financial_org': {'name': 'Trinity Ventures',\n",
       "      'permalink': 'trinity-ventures'},\n",
       "     'person': None},\n",
       "    {'company': None,\n",
       "     'financial_org': {'name': 'Frazier Technology Ventures',\n",
       "      'permalink': 'frazier-technology-ventures'},\n",
       "     'person': None}]}],\n",
       " 'investments': [],\n",
       " 'acquisition': {'price_amount': 30000000,\n",
       "  'price_currency_code': 'USD',\n",
       "  'term_code': 'cash_and_stock',\n",
       "  'source_url': 'http://allthingsd.com/20131216/viggle-tries-to-bulk-up-its-social-tv-business-by-buying-wetpaint/?mod=atdtweet',\n",
       "  'source_description': ' Viggle Tries to Bulk Up Its Social TV Business by Buying Wetpaint',\n",
       "  'acquired_year': 2013,\n",
       "  'acquired_month': 12,\n",
       "  'acquired_day': 16,\n",
       "  'acquiring_company': {'name': 'Viggle', 'permalink': 'viggle'}},\n",
       " 'acquisitions': [],\n",
       " 'offices': [{'description': '',\n",
       "   'address1': '710 - 2nd Avenue',\n",
       "   'address2': 'Suite 1100',\n",
       "   'zip_code': '98104',\n",
       "   'city': 'Seattle',\n",
       "   'state_code': 'WA',\n",
       "   'country_code': 'USA',\n",
       "   'latitude': 47.603122,\n",
       "   'longitude': -122.333253},\n",
       "  {'description': '',\n",
       "   'address1': '270 Lafayette Street',\n",
       "   'address2': 'Suite 505',\n",
       "   'zip_code': '10012',\n",
       "   'city': 'New York',\n",
       "   'state_code': 'NY',\n",
       "   'country_code': 'USA',\n",
       "   'latitude': 40.7237306,\n",
       "   'longitude': -73.9964312}],\n",
       " 'milestones': [{'id': 5869,\n",
       "   'description': \"Wetpaint named in Lead411's Hottest Seattle Companies list\",\n",
       "   'stoned_year': 2010,\n",
       "   'stoned_month': 6,\n",
       "   'stoned_day': 8,\n",
       "   'source_url': 'http://www.lead411.com/seattle-companies.html',\n",
       "   'source_text': None,\n",
       "   'source_description': 'LEAD411 LAUNCHES \"HOTTEST SEATTLE COMPANIES\" AWARDS',\n",
       "   'stoneable_type': 'Company',\n",
       "   'stoned_value': None,\n",
       "   'stoned_value_type': None,\n",
       "   'stoned_acquirer': None,\n",
       "   'stoneable': {'name': 'Wetpaint', 'permalink': 'wetpaint'}},\n",
       "  {'id': 8702,\n",
       "   'description': 'Site-Builder Wetpaint Makes One For Itself, Using the Demand Media Playbook',\n",
       "   'stoned_year': 2010,\n",
       "   'stoned_month': 9,\n",
       "   'stoned_day': 6,\n",
       "   'source_url': 'http://mediamemo.allthingsd.com/20100906/site-builder-wetpaint-makes-one-for-itself-using-the-demand-media-playbook/',\n",
       "   'source_text': None,\n",
       "   'source_description': 'All Things D',\n",
       "   'stoneable_type': 'Company',\n",
       "   'stoned_value': None,\n",
       "   'stoned_value_type': None,\n",
       "   'stoned_acquirer': None,\n",
       "   'stoneable': {'name': 'Wetpaint', 'permalink': 'wetpaint'}}],\n",
       " 'video_embeds': [],\n",
       " 'screenshots': [{'available_sizes': [[[150, 86],\n",
       "     'assets/images/resized/0016/0929/160929v2-max-150x150.png'],\n",
       "    [[250, 143], 'assets/images/resized/0016/0929/160929v2-max-250x250.png'],\n",
       "    [[450, 258], 'assets/images/resized/0016/0929/160929v2-max-450x450.png']],\n",
       "   'attribution': None}],\n",
       " 'external_links': [{'external_url': 'http://www.geekwire.com/2011/rewind-ben-elowitz-wetpaint-ceo-building-type-media-company',\n",
       "   'title': 'GeekWire interview: Rewind - Ben Elowitz, Wetpaint CEO, on building a new type of media company'},\n",
       "  {'external_url': 'http://techcrunch.com/2012/06/17/search-and-social-how-two-will-soon-become-one/',\n",
       "   'title': 'Guest post by CEO Ben Elowitz in TechCrunch'},\n",
       "  {'external_url': 'http://allthingsd.com/20120516/what-to-expect-when-facebook-is-expecting-five-predictions-for-facebooks-first-public-year/',\n",
       "   'title': 'Guest post by CEO Ben Elowitz in AllThingsD'},\n",
       "  {'external_url': 'http://adage.com/article/digitalnext/facebook-biggest-player-advertising-s-540-billion-world/235708/',\n",
       "   'title': 'Guest post by CEO Ben Elowitz in AdAge'},\n",
       "  {'external_url': 'http://www.businessinsider.com/facebook-captures-14-percent-of-our-online-attention-but-only-4-percent-of-ad-spending-online-2012-6',\n",
       "   'title': 'Guest post by CEO Ben Elowitz in Business Insider'},\n",
       "  {'external_url': 'http://allfacebook.com/wetpaint-media-data_b75963',\n",
       "   'title': 'AllFacebook coverage of Wetpaint'},\n",
       "  {'external_url': 'http://adage.com/article/digital/celeb-site-wetpaint-shows-media-profit-facebook/237828/',\n",
       "   'title': 'Profile of Wetpaint in Ad Age'},\n",
       "  {'external_url': 'http://allthingsd.com/20121018/how-to-boost-your-facebook-traffic-tips-and-tricks-from-wetpaint/',\n",
       "   'title': 'Interview with Wetpaint CEO Ben Elowitz in All Things D'},\n",
       "  {'external_url': 'http://www.xconomy.com/seattle/2012/10/19/wetpaint-starts-licensing-its-facebook-based-media-distribution-tech/',\n",
       "   'title': 'Profile of Wetpaint in Xconomy'}],\n",
       " 'partners': []}"
      ]
     },
     "execution_count": 43,
     "metadata": {},
     "output_type": "execute_result"
    }
   ],
   "source": [
    "c.find_one()"
   ]
  },
  {
   "cell_type": "markdown",
   "metadata": {},
   "source": [
    "### 1. All the companies whose name match 'Babelgum'. Retrieve only their `name` field."
   ]
  },
  {
   "cell_type": "code",
   "execution_count": 44,
   "metadata": {},
   "outputs": [
    {
     "data": {
      "text/plain": [
       "[{'name': 'Babelgum'}]"
      ]
     },
     "execution_count": 44,
     "metadata": {},
     "output_type": "execute_result"
    }
   ],
   "source": [
    "list(c.find({\"name\":\"Babelgum\"}, {\"name\":1, \"_id\": 0}).limit(1))"
   ]
  },
  {
   "cell_type": "markdown",
   "metadata": {},
   "source": [
    "### 2. All the companies that have more than 5000 employees. Limit the search to 20 companies and sort them by **number of employees**."
   ]
  },
  {
   "cell_type": "code",
   "execution_count": 45,
   "metadata": {},
   "outputs": [
    {
     "data": {
      "text/plain": [
       "[{'name': 'Siemens', 'number_of_employees': 405000},\n",
       " {'name': 'IBM', 'number_of_employees': 388000},\n",
       " {'name': 'Toyota', 'number_of_employees': 320000},\n",
       " {'name': 'PayPal', 'number_of_employees': 300000},\n",
       " {'name': 'Nippon Telegraph and Telephone Corporation',\n",
       "  'number_of_employees': 227000},\n",
       " {'name': 'Samsung Electronics', 'number_of_employees': 221726},\n",
       " {'name': 'Accenture', 'number_of_employees': 205000},\n",
       " {'name': 'Tata Consultancy Services', 'number_of_employees': 200300},\n",
       " {'name': 'Flextronics International', 'number_of_employees': 200000},\n",
       " {'name': 'Safeway', 'number_of_employees': 186000},\n",
       " {'name': 'Sony', 'number_of_employees': 180500},\n",
       " {'name': 'LG', 'number_of_employees': 177000},\n",
       " {'name': 'Ford', 'number_of_employees': 171000},\n",
       " {'name': 'Boeing', 'number_of_employees': 160000},\n",
       " {'name': 'Digital Equipment Corporation', 'number_of_employees': 140000},\n",
       " {'name': 'Nokia', 'number_of_employees': 125000},\n",
       " {'name': 'MItsubishi Electric', 'number_of_employees': 107000},\n",
       " {'name': 'MItsubishi Electric', 'number_of_employees': 107000},\n",
       " {'name': 'Comcast', 'number_of_employees': 100000},\n",
       " {'name': 'Bertelsmann', 'number_of_employees': 100000}]"
      ]
     },
     "execution_count": 45,
     "metadata": {},
     "output_type": "execute_result"
    }
   ],
   "source": [
    "empl_5000 = {\"number_of_employees\": {\"$gt\":5000}}\n",
    "\n",
    "projection0 = {\"name\":1, \"number_of_employees\":1, \"_id\":0}\n",
    "\n",
    "list(c.find(empl_5000, projection0).sort(\"number_of_employees\", -1).limit(20))"
   ]
  },
  {
   "cell_type": "markdown",
   "metadata": {},
   "source": [
    "### 3. All the companies founded between 2000 and 2005, both years included. Retrieve only the `name` and `founded_year` fields."
   ]
  },
  {
   "cell_type": "code",
   "execution_count": 46,
   "metadata": {},
   "outputs": [
    {
     "data": {
      "text/plain": [
       "[{'name': 'MeeVee', 'founded_year': 2000},\n",
       " {'name': 'Steorn', 'founded_year': 2000},\n",
       " {'name': 'Boonex', 'founded_year': 2000},\n",
       " {'name': 'PhotoBox', 'founded_year': 2000},\n",
       " {'name': 'AllofMP3', 'founded_year': 2000}]"
      ]
     },
     "execution_count": 46,
     "metadata": {},
     "output_type": "execute_result"
    }
   ],
   "source": [
    "after_2000 = {\"founded_year\": {\"$gte\": 2000}}\n",
    "before_2005 = {\"founded_year\": {\"$lte\": 2005}}\n",
    "between_2000_2005 = {\"$and\": [after_2000, before_2005]}\n",
    "projection1 = {\"_id\":0, \"name\":1, \"founded_year\":1}\n",
    "\n",
    "list(c.find(between_2000_2005, projection1).sort(\"founded_year\", 1).limit(5))"
   ]
  },
  {
   "cell_type": "markdown",
   "metadata": {},
   "source": [
    "### 4. All the companies that had a Valuation Amount of more than 100.000.000 and have been founded before 2010. Retrieve only the `name` and `ipo` fields."
   ]
  },
  {
   "cell_type": "code",
   "execution_count": 56,
   "metadata": {},
   "outputs": [
    {
     "data": {
      "text/plain": [
       "[{'name': 'Nielsen', 'ipo': {'valuation_amount': 1600000000}},\n",
       " {'name': 'Western Digital', 'ipo': {'valuation_amount': 9430000000}},\n",
       " {'name': 'BMC Software', 'ipo': {'valuation_amount': 6000000000}},\n",
       " {'name': 'QlikTech', 'ipo': {'valuation_amount': 1000000000}},\n",
       " {'name': 'Geeknet', 'ipo': {'valuation_amount': 134000000}}]"
      ]
     },
     "execution_count": 56,
     "metadata": {},
     "output_type": "execute_result"
    }
   ],
   "source": [
    "valuation_100M = {\"ipo.valuation_amount\":{\"$gt\":100000000}}\n",
    "before_2010 = {\"founded_year\": {\"$lt\": 2010}}\n",
    "valuat_before = {\"$and\":[valuation_100M,before_2010]}\n",
    "projection2 = {\"_id\":0, \"name\":1, \"ipo\":{\"valuation_amount\":1}}\n",
    "\n",
    "list(c.find(valuat_before, projection2).sort(\"founded_year\", 1).limit(5))"
   ]
  },
  {
   "cell_type": "markdown",
   "metadata": {},
   "source": [
    "### 5. All the companies that have less than 1000 employees and have been founded before 2005. Order them by the number of employees and limit the search to 10 companies."
   ]
  },
  {
   "cell_type": "code",
   "execution_count": 57,
   "metadata": {},
   "outputs": [
    {
     "data": {
      "text/plain": [
       "[{'name': 'Infinera Corporation', 'number_of_employees': 974},\n",
       " {'name': 'Box', 'number_of_employees': 950},\n",
       " {'name': 'NorthPoint Communications Group', 'number_of_employees': 948},\n",
       " {'name': '888 Holdings', 'number_of_employees': 931},\n",
       " {'name': 'Forrester Research', 'number_of_employees': 903},\n",
       " {'name': 'Webmetrics', 'number_of_employees': 900},\n",
       " {'name': 'SonicWALL', 'number_of_employees': 900},\n",
       " {'name': 'Workday', 'number_of_employees': 900},\n",
       " {'name': 'Cornerstone OnDemand', 'number_of_employees': 881},\n",
       " {'name': 'Mozilla', 'number_of_employees': 800}]"
      ]
     },
     "execution_count": 57,
     "metadata": {},
     "output_type": "execute_result"
    }
   ],
   "source": [
    "empl_1000 = {\"number_of_employees\": {\"$lt\":1000}}\n",
    "empl_before = {\"$and\":[empl_1000,before_2005]}\n",
    "projection3 = {\"_id\":0, \"name\":1, \"number_of_employees\": 1}\n",
    "\n",
    "list(c.find(empl_before, projection3).sort(\"number_of_employees\", -1).limit(10))"
   ]
  },
  {
   "cell_type": "markdown",
   "metadata": {},
   "source": [
    "### 6. All the companies that don't include the `partners` field."
   ]
  },
  {
   "cell_type": "code",
   "execution_count": 60,
   "metadata": {},
   "outputs": [
    {
     "data": {
      "text/plain": [
       "[]"
      ]
     },
     "execution_count": 60,
     "metadata": {},
     "output_type": "execute_result"
    }
   ],
   "source": [
    "list(c.find({\"partners\": {\"$exists\": False}}))"
   ]
  },
  {
   "attachments": {},
   "cell_type": "markdown",
   "metadata": {},
   "source": [
    "### 7. All the companies that have a null type of value on the `` field."
   ]
  },
  {
   "cell_type": "code",
   "execution_count": 61,
   "metadata": {},
   "outputs": [
    {
     "data": {
      "text/plain": [
       "[]"
      ]
     },
     "execution_count": 61,
     "metadata": {},
     "output_type": "execute_result"
    }
   ],
   "source": [
    "list(c.find({\"category_code\": {\"$in\": [\"null\"]}}))"
   ]
  },
  {
   "cell_type": "code",
   "execution_count": 62,
   "metadata": {},
   "outputs": [
    {
     "data": {
      "text/plain": [
       "[]"
      ]
     },
     "execution_count": 62,
     "metadata": {},
     "output_type": "execute_result"
    }
   ],
   "source": [
    "list(c.find({\"category_code\": {\"$exists\": False}}))"
   ]
  },
  {
   "cell_type": "markdown",
   "metadata": {},
   "source": [
    "### 8. All the companies that have at least 100 employees but less than 1000. Retrieve only the `name` and `number of employees` fields."
   ]
  },
  {
   "cell_type": "code",
   "execution_count": 64,
   "metadata": {},
   "outputs": [
    {
     "data": {
      "text/plain": [
       "[]"
      ]
     },
     "execution_count": 64,
     "metadata": {},
     "output_type": "execute_result"
    }
   ],
   "source": [
    "empl_100 = {\"number_of_employees\": {\"$gte\":1000}}\n",
    "empl_between = {\"$and\": [empl_100, empl_1000]}\n",
    "\n",
    "list(c.find(empl_between, projection3).sort(\"number_of_employees\", 1).limit(5))"
   ]
  },
  {
   "cell_type": "markdown",
   "metadata": {},
   "source": [
    "### 9. Order all the companies by their IPO price in a descending order."
   ]
  },
  {
   "cell_type": "code",
   "execution_count": 73,
   "metadata": {},
   "outputs": [
    {
     "data": {
      "text/plain": [
       "[{'name': 'GREE', 'ipo': {'valuation_amount': 108960000000}},\n",
       " {'name': 'Facebook', 'ipo': {'valuation_amount': 104000000000}},\n",
       " {'name': 'Amazon', 'ipo': {'valuation_amount': 100000000000}},\n",
       " {'name': 'Twitter', 'ipo': {'valuation_amount': 18100000000}},\n",
       " {'name': 'Groupon', 'ipo': {'valuation_amount': 12800000000}},\n",
       " {'name': 'Tencent', 'ipo': {'valuation_amount': 11000000000}},\n",
       " {'name': 'Western Digital', 'ipo': {'valuation_amount': 9430000000}},\n",
       " {'name': 'LinkedIn', 'ipo': {'valuation_amount': 9310000000}},\n",
       " {'name': 'BMC Software', 'ipo': {'valuation_amount': 6000000000}},\n",
       " {'name': 'Rackspace', 'ipo': {'valuation_amount': 5440000000}}]"
      ]
     },
     "execution_count": 73,
     "metadata": {},
     "output_type": "execute_result"
    }
   ],
   "source": [
    "list(c.find({},projection2).sort(\"ipo.valuation_amount\", -1).limit(10))"
   ]
  },
  {
   "cell_type": "markdown",
   "metadata": {},
   "source": [
    "### 10. Retrieve the 10 companies with more employees, order by the `number of employees`"
   ]
  },
  {
   "cell_type": "code",
   "execution_count": 74,
   "metadata": {},
   "outputs": [
    {
     "data": {
      "text/plain": [
       "[{'name': 'Siemens', 'number_of_employees': 405000},\n",
       " {'name': 'IBM', 'number_of_employees': 388000},\n",
       " {'name': 'Toyota', 'number_of_employees': 320000},\n",
       " {'name': 'PayPal', 'number_of_employees': 300000},\n",
       " {'name': 'Nippon Telegraph and Telephone Corporation',\n",
       "  'number_of_employees': 227000},\n",
       " {'name': 'Samsung Electronics', 'number_of_employees': 221726},\n",
       " {'name': 'Accenture', 'number_of_employees': 205000},\n",
       " {'name': 'Tata Consultancy Services', 'number_of_employees': 200300},\n",
       " {'name': 'Flextronics International', 'number_of_employees': 200000},\n",
       " {'name': 'Safeway', 'number_of_employees': 186000}]"
      ]
     },
     "execution_count": 74,
     "metadata": {},
     "output_type": "execute_result"
    }
   ],
   "source": [
    "filter_none = {}\n",
    "\n",
    "list(c.find(filter_none,projection3).sort(\"number_of_employees\", -1).limit(10))"
   ]
  },
  {
   "cell_type": "markdown",
   "metadata": {},
   "source": [
    "### 11. All the companies founded on the second semester of the year. Limit your search to 1000 companies."
   ]
  },
  {
   "cell_type": "code",
   "execution_count": 75,
   "metadata": {},
   "outputs": [
    {
     "data": {
      "text/plain": [
       "[{'name': 'Pando Networks', 'founded_month': 7},\n",
       " {'name': 'MeeVee', 'founded_month': 7},\n",
       " {'name': 'GigaOM', 'founded_month': 7},\n",
       " {'name': 'iContact', 'founded_month': 7},\n",
       " {'name': 'Jaiku', 'founded_month': 7},\n",
       " {'name': 'Terabitz', 'founded_month': 7},\n",
       " {'name': 'Cyworld', 'founded_month': 7},\n",
       " {'name': 'Ujogo', 'founded_month': 7},\n",
       " {'name': 'Yapta', 'founded_month': 7},\n",
       " {'name': 'Yelp', 'founded_month': 7}]"
      ]
     },
     "execution_count": 75,
     "metadata": {},
     "output_type": "execute_result"
    }
   ],
   "source": [
    "second_semester = {\"founded_month\":{\"$gt\":6}}\n",
    "projection4 = {\"_id\":0, \"name\":1, \"founded_month\":1}\n",
    "\n",
    "list(c.find(second_semester, projection4).sort(\"founded_month\", 1).limit(10)) # you can change the limit by adding two extra zeros :o\n"
   ]
  },
  {
   "cell_type": "markdown",
   "metadata": {},
   "source": [
    "### 12. All the companies founded before 2000 that have an acquisition amount of more than 10.000.000"
   ]
  },
  {
   "cell_type": "code",
   "execution_count": null,
   "metadata": {},
   "outputs": [],
   "source": [
    "# Your Code"
   ]
  },
  {
   "cell_type": "markdown",
   "metadata": {},
   "source": [
    "### 13. All the companies that have been acquired after 2010, order by the acquisition amount, and retrieve only their `name` and `acquisition` field."
   ]
  },
  {
   "cell_type": "code",
   "execution_count": null,
   "metadata": {},
   "outputs": [],
   "source": [
    "# Your Code"
   ]
  },
  {
   "cell_type": "markdown",
   "metadata": {},
   "source": [
    "### 14. Order the companies by their `founded year`, retrieving only their `name` and `founded year`."
   ]
  },
  {
   "cell_type": "code",
   "execution_count": null,
   "metadata": {},
   "outputs": [],
   "source": [
    "# Your Code"
   ]
  },
  {
   "cell_type": "markdown",
   "metadata": {},
   "source": [
    "### 15. All the companies that have been founded on the first seven days of the month, including the seventh. Sort them by their `acquisition price` in a descending order. Limit the search to 10 documents."
   ]
  },
  {
   "cell_type": "code",
   "execution_count": null,
   "metadata": {},
   "outputs": [],
   "source": [
    "# Your Code"
   ]
  },
  {
   "cell_type": "markdown",
   "metadata": {},
   "source": [
    "### 16. All the companies on the 'web' `category` that have more than 4000 employees. Sort them by the amount of employees in ascending order."
   ]
  },
  {
   "cell_type": "code",
   "execution_count": null,
   "metadata": {},
   "outputs": [],
   "source": [
    "# Your Code"
   ]
  },
  {
   "cell_type": "markdown",
   "metadata": {},
   "source": [
    "### 17. All the companies whose acquisition amount is more than 10.000.000, and currency is 'EUR'."
   ]
  },
  {
   "cell_type": "code",
   "execution_count": null,
   "metadata": {},
   "outputs": [],
   "source": [
    "# Your Code"
   ]
  },
  {
   "cell_type": "markdown",
   "metadata": {},
   "source": [
    "### 18. All the companies that have been acquired on the first trimester of the year. Limit the search to 10 companies, and retrieve only their `name` and `acquisition` fields."
   ]
  },
  {
   "cell_type": "code",
   "execution_count": null,
   "metadata": {},
   "outputs": [],
   "source": [
    "# Your Code"
   ]
  },
  {
   "cell_type": "markdown",
   "metadata": {},
   "source": [
    "# Bonus\n",
    "### 19. All the companies that have been founded between 2000 and 2010, but have not been acquired before 2011."
   ]
  },
  {
   "cell_type": "code",
   "execution_count": null,
   "metadata": {},
   "outputs": [],
   "source": [
    "# Your Code"
   ]
  },
  {
   "cell_type": "markdown",
   "metadata": {},
   "source": [
    "### 20. All the companies that have been 'deadpooled' after the third year."
   ]
  },
  {
   "cell_type": "code",
   "execution_count": null,
   "metadata": {},
   "outputs": [],
   "source": [
    "# Your Code"
   ]
  },
  {
   "cell_type": "markdown",
   "metadata": {},
   "source": [
    "**⚠️ Did you do this?**\n",
    "\n",
    "```python\n",
    "list(collection.find(query))[:5] #or a reasonably low number\n",
    "```"
   ]
  }
 ],
 "metadata": {
  "kernelspec": {
   "display_name": "ironhack",
   "language": "python",
   "name": "python3"
  },
  "language_info": {
   "codemirror_mode": {
    "name": "ipython",
    "version": 3
   },
   "file_extension": ".py",
   "mimetype": "text/x-python",
   "name": "python",
   "nbconvert_exporter": "python",
   "pygments_lexer": "ipython3",
   "version": "3.10.4"
  },
  "toc": {
   "base_numbering": 1,
   "nav_menu": {},
   "number_sections": true,
   "sideBar": true,
   "skip_h1_title": false,
   "title_cell": "Table of Contents",
   "title_sidebar": "Contents",
   "toc_cell": false,
   "toc_position": {},
   "toc_section_display": true,
   "toc_window_display": true
  },
  "vscode": {
   "interpreter": {
    "hash": "4fb3542bd4955df1568bd30556108f2a509a772a1c7029bb09d83fc983cd9288"
   }
  }
 },
 "nbformat": 4,
 "nbformat_minor": 2
}

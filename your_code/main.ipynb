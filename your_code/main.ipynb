{
 "cells": [
  {
   "cell_type": "markdown",
   "metadata": {},
   "source": [
    "# Advanced Querying Mongo"
   ]
  },
  {
   "cell_type": "markdown",
   "metadata": {},
   "source": [
    "**⚠️ IMPORTANT: Limit your print to avoid infinite scrolling. Otherwise your\n",
    "code will be lost between print lines. If working with lists do:**\n",
    "\n",
    "```python\n",
    "list(collection.find(query))[:5] #or a reasonably low number\n",
    "```"
   ]
  },
  {
   "cell_type": "markdown",
   "metadata": {},
   "source": [
    "Importing libraries and setting up connection"
   ]
  },
  {
   "cell_type": "code",
   "execution_count": 1,
   "metadata": {},
   "outputs": [
    {
     "data": {
      "text/plain": [
       "Collection(Database(MongoClient(host=['localhost:27017'], document_class=dict, tz_aware=False, connect=True), 'Ironhack'), 'companies')"
      ]
     },
     "execution_count": 1,
     "metadata": {},
     "output_type": "execute_result"
    }
   ],
   "source": [
    "from pymongo import MongoClient\n",
    "import pandas as pd\n",
    "import time\n",
    "client = MongoClient(\"localhost:27017\")\n",
    "db = client[\"Ironhack\"]\n",
    "col = db.get_collection(\"companies\")\n",
    "col"
   ]
  },
  {
   "cell_type": "markdown",
   "metadata": {},
   "source": [
    "### 1. All the companies whose name match 'Babelgum'. Retrieve only their `name` field."
   ]
  },
  {
   "cell_type": "code",
   "execution_count": 2,
   "metadata": {},
   "outputs": [
    {
     "data": {
      "text/plain": [
       "[{'name': 'Babelgum'}]"
      ]
     },
     "execution_count": 2,
     "metadata": {},
     "output_type": "execute_result"
    }
   ],
   "source": [
    "list(col.find({'name': 'Babelgum'},{'_id':0, 'name':1}))"
   ]
  },
  {
   "cell_type": "markdown",
   "metadata": {},
   "source": [
    "### 2. All the companies that have more than 5000 employees. Limit the search to 20 companies and sort them by **number of employees**."
   ]
  },
  {
   "cell_type": "code",
   "execution_count": 3,
   "metadata": {},
   "outputs": [
    {
     "data": {
      "text/plain": [
       "[{'name': 'Siemens'},\n",
       " {'name': 'IBM'},\n",
       " {'name': 'Toyota'},\n",
       " {'name': 'PayPal'},\n",
       " {'name': 'Nippon Telegraph and Telephone Corporation'},\n",
       " {'name': 'Samsung Electronics'},\n",
       " {'name': 'Accenture'},\n",
       " {'name': 'Tata Consultancy Services'},\n",
       " {'name': 'Flextronics International'},\n",
       " {'name': 'Safeway'},\n",
       " {'name': 'Sony'},\n",
       " {'name': 'LG'},\n",
       " {'name': 'Ford'},\n",
       " {'name': 'Boeing'},\n",
       " {'name': 'Digital Equipment Corporation'},\n",
       " {'name': 'Nokia'},\n",
       " {'name': 'MItsubishi Electric'},\n",
       " {'name': 'MItsubishi Electric'},\n",
       " {'name': 'Bertelsmann'},\n",
       " {'name': 'Comcast'}]"
      ]
     },
     "execution_count": 3,
     "metadata": {},
     "output_type": "execute_result"
    }
   ],
   "source": [
    "list(col.find({'number_of_employees':{\"$gt\":5000}},{'_id':0, 'name': 1}).sort('number_of_employees',-1).limit(20))"
   ]
  },
  {
   "cell_type": "markdown",
   "metadata": {},
   "source": [
    "### 3. All the companies founded between 2000 and 2005, both years included. Retrieve only the `name` and `founded_year` fields."
   ]
  },
  {
   "cell_type": "code",
   "execution_count": 4,
   "metadata": {},
   "outputs": [
    {
     "data": {
      "text/plain": [
       "[{'name': 'Wetpaint', 'founded_year': 2005},\n",
       " {'name': 'Zoho', 'founded_year': 2005},\n",
       " {'name': 'Digg', 'founded_year': 2004},\n",
       " {'name': 'Facebook', 'founded_year': 2004},\n",
       " {'name': 'Omnidrive', 'founded_year': 2005},\n",
       " {'name': 'StumbleUpon', 'founded_year': 2002},\n",
       " {'name': 'Gizmoz', 'founded_year': 2003},\n",
       " {'name': 'Helio', 'founded_year': 2005},\n",
       " {'name': 'Plaxo', 'founded_year': 2002},\n",
       " {'name': 'Technorati', 'founded_year': 2002}]"
      ]
     },
     "execution_count": 4,
     "metadata": {},
     "output_type": "execute_result"
    }
   ],
   "source": [
    "cond_2000= {'founded_year': {'$gte':2000}}\n",
    "cond_2005= {'founded_year': {'$lte':2005}}\n",
    "retrieve = {'name':1, '_id':0, 'founded_year':1}\n",
    "\n",
    "companies= list(col.find({\n",
    "    '$and':\n",
    "    [cond_2000,cond_2005]},retrieve).limit(10))\n",
    "companies"
   ]
  },
  {
   "cell_type": "markdown",
   "metadata": {},
   "source": [
    "### 4. All the companies that had a Valuation Amount of more than 100.000.000 and have been founded before 2010. Retrieve only the `name` and `ipo` fields."
   ]
  },
  {
   "cell_type": "markdown",
   "metadata": {},
   "source": [
    "cond_1: Valuation Amount > 100.000.000 &\n",
    "cond_2: founded lt>2010\n",
    "retrv: name, ipo"
   ]
  },
  {
   "cell_type": "code",
   "execution_count": 5,
   "metadata": {},
   "outputs": [
    {
     "data": {
      "text/plain": [
       "[{'name': 'Facebook',\n",
       "  'ipo': {'valuation_amount': 104000000000,\n",
       "   'valuation_currency_code': 'USD',\n",
       "   'pub_year': 2012,\n",
       "   'pub_month': 5,\n",
       "   'pub_day': 18,\n",
       "   'stock_symbol': 'NASDAQ:FB'}},\n",
       " {'name': 'Twitter',\n",
       "  'ipo': {'valuation_amount': 18100000000,\n",
       "   'valuation_currency_code': 'USD',\n",
       "   'pub_year': 2013,\n",
       "   'pub_month': 11,\n",
       "   'pub_day': 7,\n",
       "   'stock_symbol': 'NYSE:TWTR'}},\n",
       " {'name': 'Yelp',\n",
       "  'ipo': {'valuation_amount': 1300000000,\n",
       "   'valuation_currency_code': 'USD',\n",
       "   'pub_year': 2012,\n",
       "   'pub_month': 3,\n",
       "   'pub_day': 2,\n",
       "   'stock_symbol': 'NYSE:YELP'}},\n",
       " {'name': 'LinkedIn',\n",
       "  'ipo': {'valuation_amount': 9310000000,\n",
       "   'valuation_currency_code': 'USD',\n",
       "   'pub_year': 2011,\n",
       "   'pub_month': 7,\n",
       "   'pub_day': 20,\n",
       "   'stock_symbol': 'NYSE:LNKD'}},\n",
       " {'name': 'Amazon',\n",
       "  'ipo': {'valuation_amount': 100000000000,\n",
       "   'valuation_currency_code': 'USD',\n",
       "   'pub_year': 1997,\n",
       "   'pub_month': 5,\n",
       "   'pub_day': None,\n",
       "   'stock_symbol': 'NASDAQ:AMZN'}}]"
      ]
     },
     "execution_count": 5,
     "metadata": {},
     "output_type": "execute_result"
    }
   ],
   "source": [
    "cond_1 = {'ipo.valuation_amount':{'$gt':100000000}}\n",
    "cond_2 = {'founded_year':{'$lt': 2010}}\n",
    "retrieve ={'name':1, '_id':0, 'ipo':1}\n",
    "\n",
    "list(col.find({\n",
    "    '$and':\n",
    "    [cond_1,cond_2]},retrieve).limit(5))\n"
   ]
  },
  {
   "cell_type": "markdown",
   "metadata": {},
   "source": [
    "### 5. All the companies that have less than 1000 employees and have been founded before 2005. Order them by the number of employees and limit the search to 10 companies."
   ]
  },
  {
   "cell_type": "markdown",
   "metadata": {},
   "source": [
    "cond_1: employees lt 1000 & \n",
    "cond_2: founded lt 2005\n",
    "sort by no. employees and limit 10"
   ]
  },
  {
   "cell_type": "code",
   "execution_count": 6,
   "metadata": {},
   "outputs": [
    {
     "data": {
      "text/plain": [
       "[{'name': 'Infinera Corporation'},\n",
       " {'name': 'NorthPoint Communications Group'},\n",
       " {'name': '888 Holdings'},\n",
       " {'name': 'Forrester Research'},\n",
       " {'name': 'Webmetrics'},\n",
       " {'name': 'SonicWALL'},\n",
       " {'name': 'Cornerstone OnDemand'},\n",
       " {'name': 'Buongiorno'},\n",
       " {'name': 'Cvent'},\n",
       " {'name': 'ZoomInfo'}]"
      ]
     },
     "execution_count": 6,
     "metadata": {},
     "output_type": "execute_result"
    }
   ],
   "source": [
    "cond_1 = {'number_of_employees':{'$lt':1000}}\n",
    "cond_2 = {'founded_year':{'$lt':2005}}\n",
    "retrieve = {'name':1, '_id':0}\n",
    "\n",
    "\n",
    "list(col.find({\n",
    "    '$and':\n",
    "    [cond_1,cond_2]},retrieve).sort(\"number_of_employees\", -1).limit(10))\n"
   ]
  },
  {
   "cell_type": "markdown",
   "metadata": {},
   "source": [
    "### 6.-All-the-companies-that-don't-include-the-partners-field."
   ]
  },
  {
   "cell_type": "code",
   "execution_count": 7,
   "metadata": {},
   "outputs": [
    {
     "data": {
      "text/plain": [
       "[]"
      ]
     },
     "execution_count": 7,
     "metadata": {},
     "output_type": "execute_result"
    }
   ],
   "source": [
    "list(col.find({\"partners\": {\"$exists\": False}}).limit(10))"
   ]
  },
  {
   "cell_type": "markdown",
   "metadata": {},
   "source": [
    "### 7. All the companies that have a null type of value on the `category_code` field."
   ]
  },
  {
   "cell_type": "code",
   "execution_count": 8,
   "metadata": {},
   "outputs": [
    {
     "data": {
      "text/plain": [
       "[{'name': 'Collective'},\n",
       " {'name': 'Snimmer'},\n",
       " {'name': 'KoolIM'},\n",
       " {'name': 'Level9 Media'},\n",
       " {'name': 'VidKing'},\n",
       " {'name': 'Drigg'},\n",
       " {'name': 'SpaceTime'},\n",
       " {'name': 'Touch Clarity'},\n",
       " {'name': 'MMDAYS'},\n",
       " {'name': 'Inside Group'}]"
      ]
     },
     "execution_count": 8,
     "metadata": {},
     "output_type": "execute_result"
    }
   ],
   "source": [
    "cond_1= {'category_code':{\"$type\": 'null'}}\n",
    "retrieve = {'name':1, '_id':0}\n",
    "list(col.find(cond_1,retrieve).limit(10))"
   ]
  },
  {
   "cell_type": "markdown",
   "metadata": {},
   "source": [
    "### 8. All the companies that have at least 100 employees but less than 1000. Retrieve only the `name` and `number of employees` fields."
   ]
  },
  {
   "cell_type": "markdown",
   "metadata": {},
   "source": [
    "employees lt 1000 &\n",
    "employees gt 100 &\n",
    "print name and n.o.e\n"
   ]
  },
  {
   "cell_type": "code",
   "execution_count": 9,
   "metadata": {},
   "outputs": [
    {
     "data": {
      "text/plain": [
       "[{'name': 'AdventNet', 'number_of_employees': 600},\n",
       " {'name': 'AddThis', 'number_of_employees': 120},\n",
       " {'name': 'OpenX', 'number_of_employees': 305},\n",
       " {'name': 'LifeLock', 'number_of_employees': 644},\n",
       " {'name': 'Jajah', 'number_of_employees': 110},\n",
       " {'name': 'Livestream', 'number_of_employees': 120},\n",
       " {'name': 'Ustream', 'number_of_employees': 250},\n",
       " {'name': 'iContact', 'number_of_employees': 300},\n",
       " {'name': 'Yelp', 'number_of_employees': 800},\n",
       " {'name': 'Dailymotion', 'number_of_employees': 120}]"
      ]
     },
     "execution_count": 9,
     "metadata": {},
     "output_type": "execute_result"
    }
   ],
   "source": [
    "cond_1 = {'number_of_employees':{'$lt':1000}}\n",
    "cond_2 = {'number_of_employees':{'$gt':100}}\n",
    "retrieve = {'name':1, '_id':0, 'number_of_employees':1}\n",
    "list(col.find({\n",
    "    '$and':\n",
    "    [cond_1,cond_2]},retrieve).limit(10))"
   ]
  },
  {
   "cell_type": "markdown",
   "metadata": {},
   "source": [
    "### 9. Order all the companies by their IPO price in a descending order."
   ]
  },
  {
   "cell_type": "code",
   "execution_count": 10,
   "metadata": {},
   "outputs": [
    {
     "data": {
      "text/plain": [
       "[{'name': 'GREE'},\n",
       " {'name': 'Facebook'},\n",
       " {'name': 'Amazon'},\n",
       " {'name': 'Twitter'},\n",
       " {'name': 'Groupon'}]"
      ]
     },
     "execution_count": 10,
     "metadata": {},
     "output_type": "execute_result"
    }
   ],
   "source": [
    "\n",
    "list(col.find({'ipo.valuation_amount': {\"$exists\": True}},{'name':1, '_id':0}).limit(5).sort('ipo.valuation_amount',-1))"
   ]
  },
  {
   "cell_type": "markdown",
   "metadata": {},
   "source": [
    "### 10. Retrieve the 10 companies with more employees, order by the `number of employees`"
   ]
  },
  {
   "cell_type": "code",
   "execution_count": 11,
   "metadata": {},
   "outputs": [
    {
     "data": {
      "text/plain": [
       "[{'name': 'Omnidrive'},\n",
       " {'name': 'Fox Interactive Media'},\n",
       " {'name': 'Zoho'},\n",
       " {'name': 'Postini'},\n",
       " {'name': 'Flektor'},\n",
       " {'name': 'Facebook'},\n",
       " {'name': 'Wetpaint'},\n",
       " {'name': 'AdventNet'},\n",
       " {'name': 'Digg'},\n",
       " {'name': 'Geni'}]"
      ]
     },
     "execution_count": 11,
     "metadata": {},
     "output_type": "execute_result"
    }
   ],
   "source": [
    "list(col.find({'name': {\"$exists\": True}},{'name':1, '_id':0}).sort('number of employees',-1).limit(10))"
   ]
  },
  {
   "cell_type": "markdown",
   "metadata": {},
   "source": [
    "### 11. All the companies founded on the second semester of the year. Limit your search to 1000 companies."
   ]
  },
  {
   "cell_type": "markdown",
   "metadata": {},
   "source": [
    "founded_month gte 6  &\n",
    "founded_month lte 12"
   ]
  },
  {
   "cell_type": "code",
   "execution_count": 12,
   "metadata": {},
   "outputs": [
    {
     "data": {
      "text/plain": [
       "[{'name': 'AdventNet'},\n",
       " {'name': 'AddThis'},\n",
       " {'name': 'OpenX'},\n",
       " {'name': 'LifeLock'},\n",
       " {'name': 'Jajah'},\n",
       " {'name': 'Livestream'},\n",
       " {'name': 'Ustream'},\n",
       " {'name': 'iContact'},\n",
       " {'name': 'Yelp'},\n",
       " {'name': 'Dailymotion'},\n",
       " {'name': 'RockYou'},\n",
       " {'name': 'Meebo'},\n",
       " {'name': 'Eventbrite'},\n",
       " {'name': 'Box'},\n",
       " {'name': 'Conduit'},\n",
       " {'name': 'oDesk'},\n",
       " {'name': 'PhotoBox'},\n",
       " {'name': 'Spreadshirt'},\n",
       " {'name': 'Bazaarvoice'},\n",
       " {'name': 'spigit'},\n",
       " {'name': 'PowerReviews'},\n",
       " {'name': 'Tagged'},\n",
       " {'name': 'PayScale'},\n",
       " {'name': 'Truphone'},\n",
       " {'name': 'Brightcove'},\n",
       " {'name': 'Hightail'},\n",
       " {'name': 'Nimbuzz'},\n",
       " {'name': 'IMVU'},\n",
       " {'name': 'Dropbox'},\n",
       " {'name': 'MobiTV'},\n",
       " {'name': 'Jimdo'},\n",
       " {'name': 'KIT digital'},\n",
       " {'name': 'BlueLithium'},\n",
       " {'name': 'MySpace'},\n",
       " {'name': 'ZoomInfo'},\n",
       " {'name': 'Zango'},\n",
       " {'name': 'Trulia'},\n",
       " {'name': 'TubeMogul'},\n",
       " {'name': 'TechTarget'},\n",
       " {'name': 'Sportsline'},\n",
       " {'name': 'OpenTable'},\n",
       " {'name': 'Espotting'},\n",
       " {'name': 'Adknowledge'},\n",
       " {'name': 'airG'},\n",
       " {'name': 'ChannelAdvisor'},\n",
       " {'name': 'Ooyala'},\n",
       " {'name': 'hulu'},\n",
       " {'name': 'ZocDoc'},\n",
       " {'name': 'PubMatic'},\n",
       " {'name': 'Clickable'},\n",
       " {'name': 'Mozilla'},\n",
       " {'name': 'Kaltura'},\n",
       " {'name': 'Zillow'},\n",
       " {'name': 'Moz'},\n",
       " {'name': 'Zimbra'},\n",
       " {'name': 'Wamba'},\n",
       " {'name': 'Blurb'},\n",
       " {'name': 'The Climate Corporation'},\n",
       " {'name': 'Automattic'},\n",
       " {'name': 'uTest'},\n",
       " {'name': 'Payoneer'},\n",
       " {'name': 'Shopatron'},\n",
       " {'name': 'Wix'},\n",
       " {'name': 'tyntec'},\n",
       " {'name': 'Gigya'},\n",
       " {'name': 'Alipay'},\n",
       " {'name': 'MyBuys'},\n",
       " {'name': 'Zecco'},\n",
       " {'name': 'uShip'},\n",
       " {'name': 'Vobile'},\n",
       " {'name': 'Ingenio'},\n",
       " {'name': 'Splunk'},\n",
       " {'name': 'Shutterfly'},\n",
       " {'name': 'TrustedID'},\n",
       " {'name': 'Deezer'},\n",
       " {'name': 'HubSpot'},\n",
       " {'name': 'Viadeo'},\n",
       " {'name': 'GrubHub'},\n",
       " {'name': 'Skyscanner'},\n",
       " {'name': 'Match'},\n",
       " {'name': 'Deem'},\n",
       " {'name': 'CDNetworks'},\n",
       " {'name': 'KAYAK'},\n",
       " {'name': 'Acquia'},\n",
       " {'name': 'Etsy'},\n",
       " {'name': 'Tesla Motors'},\n",
       " {'name': 'Woot'},\n",
       " {'name': 'fabrik'},\n",
       " {'name': 'Oversee'},\n",
       " {'name': 'Zynga'},\n",
       " {'name': 'Badoo'},\n",
       " {'name': 'XING'},\n",
       " {'name': 'Criteo'},\n",
       " {'name': 'Adchemy'},\n",
       " {'name': 'Endeca'},\n",
       " {'name': 'Cubics'},\n",
       " {'name': 'BreakingPoint Systems'},\n",
       " {'name': 'Citrix Online'},\n",
       " {'name': 'ioko'},\n",
       " {'name': 'GameDuell'},\n",
       " {'name': 'eTeacher'},\n",
       " {'name': 'Pivotal Labs'},\n",
       " {'name': 'TheLadders'},\n",
       " {'name': 'TiVo'},\n",
       " {'name': 'Gorilla Nation Media'},\n",
       " {'name': 'Coverity'},\n",
       " {'name': 'Exalead'},\n",
       " {'name': 'AdoTube'},\n",
       " {'name': 'Grooveshark'},\n",
       " {'name': 'Pentaho'},\n",
       " {'name': 'Evernote'},\n",
       " {'name': 'Flurry'},\n",
       " {'name': 'Fibre2fashion'},\n",
       " {'name': 'FreshBooks'},\n",
       " {'name': 'AtomicOnline'},\n",
       " {'name': 'Boonty'},\n",
       " {'name': 'LiveRail'},\n",
       " {'name': 'OpenDNS'},\n",
       " {'name': 'Kareo'},\n",
       " {'name': 'VZnet Netzwerke'},\n",
       " {'name': 'Toluna'},\n",
       " {'name': 'PacketFront'},\n",
       " {'name': 'LiveOps'},\n",
       " {'name': 'Sabrix'},\n",
       " {'name': 'QuinStreet'},\n",
       " {'name': 'Outblaze'},\n",
       " {'name': 'Workday'},\n",
       " {'name': 'Clarizen'},\n",
       " {'name': 'Next New Networks'},\n",
       " {'name': 'FriendFinder Networks'},\n",
       " {'name': 'Zuora'},\n",
       " {'name': 'modu'},\n",
       " {'name': 'Sedo'},\n",
       " {'name': 'Innuity'},\n",
       " {'name': 'Voltage Security'},\n",
       " {'name': 'InMage Systems'},\n",
       " {'name': 'Buongiorno'},\n",
       " {'name': 'WebVisible'},\n",
       " {'name': 'ScanCafe'},\n",
       " {'name': 'Adconion Media Group'},\n",
       " {'name': 'Cvent'},\n",
       " {'name': 'Zend Technologies'},\n",
       " {'name': 'Location Labs'},\n",
       " {'name': 'OrangeSoda'},\n",
       " {'name': 'Networked Insights'},\n",
       " {'name': 'The Orchard'},\n",
       " {'name': 'iCrossing'},\n",
       " {'name': 'Magento'},\n",
       " {'name': 'babbel'},\n",
       " {'name': '7digital'},\n",
       " {'name': 'Higher One'},\n",
       " {'name': 'Wikimedia Foundation'},\n",
       " {'name': 'Clearwell Systems'},\n",
       " {'name': 'Infoblox'},\n",
       " {'name': 'BlueCat Networks'},\n",
       " {'name': 'NetShops'},\n",
       " {'name': 'Glassdoor'},\n",
       " {'name': 'Allopass'},\n",
       " {'name': 'Realtime Worlds'},\n",
       " {'name': 'Marketo'},\n",
       " {'name': 'Bonobos'},\n",
       " {'name': 'Forrester Research'},\n",
       " {'name': 'ZEDO'},\n",
       " {'name': 'Pegasystems'},\n",
       " {'name': 'Avisena'},\n",
       " {'name': 'GlobalEnglish'},\n",
       " {'name': 'Business News Americas'},\n",
       " {'name': 'Absolute Software'},\n",
       " {'name': 'Cellfish'},\n",
       " {'name': 'eSolar'},\n",
       " {'name': 'Huddle'},\n",
       " {'name': 'iRise'},\n",
       " {'name': 'Volusion'},\n",
       " {'name': 'RichRelevance'},\n",
       " {'name': 'PixelCrayons'},\n",
       " {'name': 'SquareTrade'},\n",
       " {'name': 'Mojiva'},\n",
       " {'name': 'NaviSite'},\n",
       " {'name': 'Iomega'},\n",
       " {'name': 'GitHub'},\n",
       " {'name': 'Geeknet'},\n",
       " {'name': 'InMobi'},\n",
       " {'name': 'Daptiv'},\n",
       " {'name': 'TigerLogic'},\n",
       " {'name': 'Wayfair'},\n",
       " {'name': 'Natta'},\n",
       " {'name': 'Webtrends'},\n",
       " {'name': 'Modern Feed'},\n",
       " {'name': 'Adify'},\n",
       " {'name': 'InvenSense'},\n",
       " {'name': 'Infinera Corporation'},\n",
       " {'name': 'Kabam'},\n",
       " {'name': 'Turbine'},\n",
       " {'name': 'Velocify'},\n",
       " {'name': 'PatientsLikeMe'},\n",
       " {'name': 'Neutralize'},\n",
       " {'name': 'Talend'},\n",
       " {'name': 'The Motley Fool'},\n",
       " {'name': 'TouchLocal'},\n",
       " {'name': 'Efficient Frontier'},\n",
       " {'name': '[x+1]'},\n",
       " {'name': 'Tiny Prints'},\n",
       " {'name': 'SilkRoad Technology'},\n",
       " {'name': 'deviantART'},\n",
       " {'name': 'Saba'},\n",
       " {'name': 'Geary Interactive'},\n",
       " {'name': 'BullsEye Telecom'},\n",
       " {'name': 'SmallWorlds'},\n",
       " {'name': 'Knewton'},\n",
       " {'name': 'AtHoc'},\n",
       " {'name': 'iWin'},\n",
       " {'name': 'Acquity Group'},\n",
       " {'name': 'TRUSTe'},\n",
       " {'name': 'Aedgency'},\n",
       " {'name': 'CoreMedia'},\n",
       " {'name': 'Intelius'},\n",
       " {'name': 'Medallia'},\n",
       " {'name': 'CCP Games'},\n",
       " {'name': 'Epic Advertising'},\n",
       " {'name': 'WSO2'},\n",
       " {'name': 'VECTOR'},\n",
       " {'name': 'Macronimous Web Solutions'},\n",
       " {'name': 'AtTask'},\n",
       " {'name': 'ClickandBuy'},\n",
       " {'name': 'Technology Evaluation Centers'},\n",
       " {'name': 'CareerNet'},\n",
       " {'name': 'Rally Software'},\n",
       " {'name': 'Trisoft Consulting'},\n",
       " {'name': 'mindSHIFT Technologies'},\n",
       " {'name': 'Infusionsoft'},\n",
       " {'name': 'Practice Fusion'},\n",
       " {'name': 'zanox'},\n",
       " {'name': 'Vernalis Systems'},\n",
       " {'name': 'TOA Technologies'},\n",
       " {'name': 'Vostu'},\n",
       " {'name': 'Odnoklassniki'},\n",
       " {'name': \"Tom's Hardware\"},\n",
       " {'name': 'Bestofmedia Group'},\n",
       " {'name': 'CyberCoders'},\n",
       " {'name': 'Pervasive Software'},\n",
       " {'name': 'Optaros'},\n",
       " {'name': 'NetSpend'},\n",
       " {'name': 'Intacct'},\n",
       " {'name': 'Barracuda Networks'},\n",
       " {'name': 'Astaro'},\n",
       " {'name': 'GARA Web Hosting'},\n",
       " {'name': 'New Media Strategies'},\n",
       " {'name': 'InsideView'},\n",
       " {'name': 'Onyx Software'},\n",
       " {'name': 'WideOrbit'},\n",
       " {'name': 'CPXi'},\n",
       " {'name': 'NameMedia'},\n",
       " {'name': 'AdParlor'},\n",
       " {'name': 'Talent Gurus'},\n",
       " {'name': 'FusionOne'},\n",
       " {'name': 'FileMaker'},\n",
       " {'name': 'MarkLogic'},\n",
       " {'name': 'Klee Group'},\n",
       " {'name': 'Appian'},\n",
       " {'name': 'Jedox'},\n",
       " {'name': 'Cleartrip'},\n",
       " {'name': 'Armjisoft Digital Rights Management Systems'},\n",
       " {'name': 'Mendix'},\n",
       " {'name': 'thePlatform'},\n",
       " {'name': 'Avature'},\n",
       " {'name': 'DSNR Media Group'},\n",
       " {'name': 'Rhapsody'},\n",
       " {'name': 'GoGrid'},\n",
       " {'name': 'Achievers'},\n",
       " {'name': 'Dot Com Infoway France'},\n",
       " {'name': 'BitDefender'},\n",
       " {'name': 'Mixi'},\n",
       " {'name': 'IDEO'},\n",
       " {'name': 'PurpleTalk'},\n",
       " {'name': 'Mobiquest'},\n",
       " {'name': 'Milestone Systems'},\n",
       " {'name': '9You'},\n",
       " {'name': 'Bronto Software'},\n",
       " {'name': 'Zendesk'},\n",
       " {'name': 'Shoplocal'},\n",
       " {'name': 'Epocrates'},\n",
       " {'name': 'Zhaopin'},\n",
       " {'name': 'Future US'},\n",
       " {'name': 'Continuum'},\n",
       " {'name': 'Vertex'},\n",
       " {'name': 'The Onion'},\n",
       " {'name': 'ZAO Begun'},\n",
       " {'name': 'QlikTech'},\n",
       " {'name': 'SAVO'},\n",
       " {'name': 'Gateway TechnoLabs Pvt Ltd'},\n",
       " {'name': 'Minted'},\n",
       " {'name': 'BUKA'},\n",
       " {'name': 'Appirio'},\n",
       " {'name': 'Douban'},\n",
       " {'name': 'MapVersa'},\n",
       " {'name': 'Verticity'},\n",
       " {'name': 'LateRooms'},\n",
       " {'name': 'Qumu'},\n",
       " {'name': 'Keynote Systems'},\n",
       " {'name': 'Soft-genesis'},\n",
       " {'name': 'Big Property Ladder'},\n",
       " {'name': 'Zagat'},\n",
       " {'name': 'Prezi'},\n",
       " {'name': 'Livebookings'},\n",
       " {'name': 'Atari'},\n",
       " {'name': 'ngmoco'},\n",
       " {'name': 'Halogen Software'},\n",
       " {'name': 'Xero'},\n",
       " {'name': 'Logia Group'},\n",
       " {'name': 'Vantage Media'},\n",
       " {'name': 'OZ Communications'},\n",
       " {'name': 'Qualiteam Software'},\n",
       " {'name': 'NetQoS'},\n",
       " {'name': 'Propertyware'},\n",
       " {'name': 'Koolanoo Group'},\n",
       " {'name': 'Centrify'},\n",
       " {'name': 'HotCourses'},\n",
       " {'name': 'BCC Research'},\n",
       " {'name': 'Integrate'},\n",
       " {'name': 'Nextiva'},\n",
       " {'name': 'Voxeo'},\n",
       " {'name': 'Hexacta'},\n",
       " {'name': 'Cutter Consortium'},\n",
       " {'name': 'Redwood Software'},\n",
       " {'name': 'Webroot'},\n",
       " {'name': 'Micro Focus'},\n",
       " {'name': 'Lyft'},\n",
       " {'name': 'Courion Corporation'},\n",
       " {'name': 'Popego'},\n",
       " {'name': 'AMAX Global Services'},\n",
       " {'name': 'Orchard Information Systems'},\n",
       " {'name': 'TradeCard'},\n",
       " {'name': 'Yammer'},\n",
       " {'name': 'LivingLink'},\n",
       " {'name': 'API Outsourcing'},\n",
       " {'name': 'Clickbooth'},\n",
       " {'name': 'iWeb Technologies'},\n",
       " {'name': 'TRUECar'},\n",
       " {'name': 'InfoReach'},\n",
       " {'name': 'AKQA'},\n",
       " {'name': 'Softonic'},\n",
       " {'name': 'Stylesight'},\n",
       " {'name': 'Koolanoo Group'},\n",
       " {'name': 'Centrify'},\n",
       " {'name': 'HotCourses'},\n",
       " {'name': 'BCC Research'},\n",
       " {'name': 'Integrate'},\n",
       " {'name': 'Nextiva'},\n",
       " {'name': 'Voxeo'},\n",
       " {'name': 'Hexacta'},\n",
       " {'name': 'Cutter Consortium'},\n",
       " {'name': 'Redwood Software'},\n",
       " {'name': 'Webroot'},\n",
       " {'name': 'Micro Focus'},\n",
       " {'name': 'Lyft'},\n",
       " {'name': 'Courion Corporation'},\n",
       " {'name': 'Popego'},\n",
       " {'name': 'AMAX Global Services'},\n",
       " {'name': 'Orchard Information Systems'},\n",
       " {'name': 'TradeCard'},\n",
       " {'name': 'Yammer'},\n",
       " {'name': 'LivingLink'},\n",
       " {'name': 'API Outsourcing'},\n",
       " {'name': 'Clickbooth'},\n",
       " {'name': 'iWeb Technologies'},\n",
       " {'name': 'TRUECar'},\n",
       " {'name': 'InfoReach'},\n",
       " {'name': 'AKQA'},\n",
       " {'name': 'Softonic'},\n",
       " {'name': 'Stylesight'},\n",
       " {'name': 'LogLogic'},\n",
       " {'name': 'TeleSciences'},\n",
       " {'name': 'Webguru-India'},\n",
       " {'name': 'Xiamen Everbeen Magnet Electron'},\n",
       " {'name': 'Unwired Planet'},\n",
       " {'name': 'Infinity Pharmaceuticals'},\n",
       " {'name': 'OneSource Information Services'},\n",
       " {'name': 'Facebookster'},\n",
       " {'name': 'Electronics Shop Limited'},\n",
       " {'name': 'TESCRA'},\n",
       " {'name': 'DERI'},\n",
       " {'name': 'Architel LP'},\n",
       " {'name': 'Mindjet'},\n",
       " {'name': 'Global Relay'},\n",
       " {'name': 'iTouchPoint'},\n",
       " {'name': 'Sitecore'},\n",
       " {'name': 'NativeX'},\n",
       " {'name': 'DigitalGlobe'},\n",
       " {'name': 'Nexenta Systems'},\n",
       " {'name': 'InfoAppenders'},\n",
       " {'name': 'Sonosite'},\n",
       " {'name': 'PlayNetwork'},\n",
       " {'name': 'Creative Kingdom Animation Studios Film'},\n",
       " {'name': 'Propellum'},\n",
       " {'name': 'Cloudera'},\n",
       " {'name': 'Agriya'},\n",
       " {'name': 'Thismoment'},\n",
       " {'name': 'Go2Net'},\n",
       " {'name': 'RigNet'},\n",
       " {'name': 'deltatre'},\n",
       " {'name': 'TARGUSinfo'},\n",
       " {'name': 'Bytemobile'},\n",
       " {'name': 'Trusteer'},\n",
       " {'name': 'A10 Networks'},\n",
       " {'name': 'Macbellads Network'},\n",
       " {'name': 'Indiagames'},\n",
       " {'name': 'Grus Construction Personnel'},\n",
       " {'name': 'Jataayu Software Ltd'},\n",
       " {'name': 'Datamonitor'},\n",
       " {'name': 'EDI Specialists'},\n",
       " {'name': 'Model Metrics'},\n",
       " {'name': 'Tekriti Software'},\n",
       " {'name': 'Red Ventures'},\n",
       " {'name': 'Squarespace'},\n",
       " {'name': 'SinoTech Group'},\n",
       " {'name': 'Next Jump'},\n",
       " {'name': 'Marine Harvest Canada'},\n",
       " {'name': 'Hi-media'},\n",
       " {'name': 'Centro'},\n",
       " {'name': 'SPIL GAMES'},\n",
       " {'name': 'Jaincotech'},\n",
       " {'name': 'LINKBYNET'},\n",
       " {'name': 'GENEVA SOFTWARE TECHNOLOGIES LTD'},\n",
       " {'name': 'Populis'},\n",
       " {'name': 'PatientKeeper'},\n",
       " {'name': 'Decho'},\n",
       " {'name': 'Activeweb'},\n",
       " {'name': 'Miniclip'},\n",
       " {'name': 'Scope e Knowledge Center Pvt Ltd'},\n",
       " {'name': 'MediaMath'},\n",
       " {'name': 'IsayBlog!'},\n",
       " {'name': 'Hosted Solutions'},\n",
       " {'name': 'net-m'},\n",
       " {'name': 'LoopNet'},\n",
       " {'name': 'American Broadband Family of Companies'},\n",
       " {'name': 'Intelligent Software Solutions'},\n",
       " {'name': 'Canpages'},\n",
       " {'name': 'Commission Junction'},\n",
       " {'name': 'MLB Advanced Media'},\n",
       " {'name': 'Liferay'},\n",
       " {'name': 'mFoundry'},\n",
       " {'name': 'CampusEAI'},\n",
       " {'name': 'LeapFish'},\n",
       " {'name': 'BrainPulse'},\n",
       " {'name': 'CASON'},\n",
       " {'name': 'iPayment'},\n",
       " {'name': 'SpectorSoft'},\n",
       " {'name': 'OpSource'},\n",
       " {'name': 'Pronto Networks'},\n",
       " {'name': 'Dot Com Infoway'},\n",
       " {'name': 'Consileon Business Consultancy GmbH'},\n",
       " {'name': 'Appcelerator'},\n",
       " {'name': 'Bitam'},\n",
       " {'name': 'tBits Global'},\n",
       " {'name': 'SecondMarket'},\n",
       " {'name': 'SolarWinds'},\n",
       " {'name': 'BlueKai'},\n",
       " {'name': 'Shutterstock'},\n",
       " {'name': 'Clear2Pay'},\n",
       " {'name': 'Nstein Technologies'},\n",
       " {'name': 'Onebox'},\n",
       " {'name': 'Wink Bill'},\n",
       " {'name': 'FireEye'},\n",
       " {'name': 'Itransition'},\n",
       " {'name': 'Program-Ace'},\n",
       " {'name': 'ClickSquared'},\n",
       " {'name': 'GREE'},\n",
       " {'name': 'RGB Networks'},\n",
       " {'name': 'Elemental Technologies'},\n",
       " {'name': 'Veritas Prep'},\n",
       " {'name': 'Silver Spring Networks'},\n",
       " {'name': 'Sonim Technologies'},\n",
       " {'name': 'OSSCube Solutions'},\n",
       " {'name': 'Central Reservations'},\n",
       " {'name': 'Five9'},\n",
       " {'name': 'Radix Web'},\n",
       " {'name': '2AdPro'},\n",
       " {'name': 'Express KCS'},\n",
       " {'name': 'Internap'},\n",
       " {'name': 'Clarabridge'},\n",
       " {'name': 'TradeKey'},\n",
       " {'name': 'Nalini Networks'},\n",
       " {'name': 'Data Tech Computers'},\n",
       " {'name': 'Silverpop'},\n",
       " {'name': 'Huiying Chemical Xiamen Company'},\n",
       " {'name': 'Koves Technologies'},\n",
       " {'name': 'Initiate Systems'},\n",
       " {'name': 'SundaySky'},\n",
       " {'name': 'Analytical Graphics'},\n",
       " {'name': 'Aristotle'},\n",
       " {'name': 'Vocalocity'},\n",
       " {'name': 'Quality Web Solutions'},\n",
       " {'name': '88DB'},\n",
       " {'name': '[x+1]'},\n",
       " {'name': 'Stored Value Systems'},\n",
       " {'name': 'Intalio'},\n",
       " {'name': 'Intellisync'},\n",
       " {'name': 'NorthPoint Communications Group'},\n",
       " {'name': 'Namco Bandai'},\n",
       " {'name': 'Relax Solutions Pvt Ltd'},\n",
       " {'name': 'DemandTec'},\n",
       " {'name': 'TechAspect Solutions'},\n",
       " {'name': 'Compulink Systems'},\n",
       " {'name': 'Landor Associates'},\n",
       " {'name': 'Chelsio Communications'},\n",
       " {'name': 'MapMyIndia'},\n",
       " {'name': 'Nexway'},\n",
       " {'name': 'Good Technology'},\n",
       " {'name': 'CAP Digisoft Solutions'},\n",
       " {'name': 'Acquirelists'},\n",
       " {'name': 'Copan Systems'},\n",
       " {'name': 'Nexsan'},\n",
       " {'name': 'Synaptics'},\n",
       " {'name': 'Quantum Secure'},\n",
       " {'name': 'Bizclickusa'},\n",
       " {'name': 'Venda'},\n",
       " {'name': 'Tobii Technology'},\n",
       " {'name': 'National Association of Professional Women'},\n",
       " {'name': 'i-Jet Media'},\n",
       " {'name': 'Rigel Networks'},\n",
       " {'name': 'Neverblue'},\n",
       " {'name': 'Secure Computing'},\n",
       " {'name': 'Mobile Messenger'},\n",
       " {'name': 'SonicWALL'},\n",
       " {'name': 'Power-battery'},\n",
       " {'name': 'OpenMarket'},\n",
       " {'name': 'LeadsMarketer'},\n",
       " {'name': 'WANdisco'},\n",
       " {'name': 'School Management Software'},\n",
       " {'name': 'Metricus'},\n",
       " {'name': 'mogamebo'},\n",
       " {'name': 'Perforce Software'},\n",
       " {'name': 'Icreon Communications'},\n",
       " {'name': 'Synapse'},\n",
       " {'name': 'Shriv Commedia Solutions Pvt Ltd'},\n",
       " {'name': 'WIT Software'},\n",
       " {'name': 'eModeration'},\n",
       " {'name': 'Digital Marketing Solutions'},\n",
       " {'name': 'Dot Com Infoway Australia'},\n",
       " {'name': 'EyeBuyDirect'},\n",
       " {'name': 'Marketwired'},\n",
       " {'name': 'Black Soft'},\n",
       " {'name': 'eCopy'},\n",
       " {'name': 'inContact'},\n",
       " {'name': 'Skytap'},\n",
       " {'name': 'Turtle Entertainment'},\n",
       " {'name': 'Jobnownow Recruitment Agency'},\n",
       " {'name': 'Marand'},\n",
       " {'name': 'Imaginova'},\n",
       " {'name': 'Webmetrics'},\n",
       " {'name': 'Jobspring Partners'},\n",
       " {'name': 'Workbridge Associates'},\n",
       " {'name': 'Dyn'},\n",
       " {'name': 'APICS'},\n",
       " {'name': 'Unity Technologies'},\n",
       " {'name': '4shared'},\n",
       " {'name': 'Jama Software'},\n",
       " {'name': 'Sixchannels'},\n",
       " {'name': 'TaskUs'},\n",
       " {'name': 'ixi mobile'},\n",
       " {'name': 'LiveOffice'},\n",
       " {'name': 'ePartners'},\n",
       " {'name': 'Cmed'},\n",
       " {'name': 'Idea Couture'},\n",
       " {'name': 'Cornerstone OnDemand'},\n",
       " {'name': 'Sift'},\n",
       " {'name': 'Adityaa Call Centre'},\n",
       " {'name': 'AMX'},\n",
       " {'name': 'Classic Informatics'},\n",
       " {'name': 'NetMotion Wireless'},\n",
       " {'name': 'Foursquare'},\n",
       " {'name': 'RightNow Technologies'},\n",
       " {'name': 'Axcient'},\n",
       " {'name': 'mjunction services limite'},\n",
       " {'name': 'Malwarebytes'},\n",
       " {'name': 'Sunbelt Software'},\n",
       " {'name': 'Z2Live'},\n",
       " {'name': 'Nimsoft'},\n",
       " {'name': 'Sowre'},\n",
       " {'name': 'Paisawaisa'},\n",
       " {'name': 'ITP Publishing Group'},\n",
       " {'name': 'Webfusion'},\n",
       " {'name': 'Pointlogic'},\n",
       " {'name': 'ControlCircle'},\n",
       " {'name': 'Three Stars'},\n",
       " {'name': 'Parts Express'},\n",
       " {'name': 'HootSuite'},\n",
       " {'name': 'i365, A Seagate Company'},\n",
       " {'name': 'Brandsclub'},\n",
       " {'name': 'AbodesIndia'},\n",
       " {'name': 'Basho Technologies'},\n",
       " {'name': 'Elluminate'},\n",
       " {'name': 'Teradici'},\n",
       " {'name': 'Alert Logic'},\n",
       " {'name': 'Bomgar'},\n",
       " {'name': 'SolarEdge'},\n",
       " {'name': 'Tuenti Technologies'},\n",
       " {'name': 'Fluid'},\n",
       " {'name': 'amfAR'},\n",
       " {'name': 'Consumers Union'},\n",
       " {'name': 'Kaseya'},\n",
       " {'name': 'TMP Directional Marketing'},\n",
       " {'name': 'u-blox'},\n",
       " {'name': 'SurveyMonkey'},\n",
       " {'name': 'Yellowbrix'},\n",
       " {'name': 'AvantGo'},\n",
       " {'name': 'Brandtology'},\n",
       " {'name': 'CSSAGlobal'},\n",
       " {'name': 'Minecode'},\n",
       " {'name': 'Bluewolf'},\n",
       " {'name': 'Chikka'},\n",
       " {'name': 'Sonos'},\n",
       " {'name': 'Birst'},\n",
       " {'name': 'NaturalMotion'},\n",
       " {'name': 'MAQ Software'},\n",
       " {'name': 'Aspiro'},\n",
       " {'name': 'FreeWheel'},\n",
       " {'name': 'Markafoni'},\n",
       " {'name': 'AspireHR'},\n",
       " {'name': 'Cybernetics'},\n",
       " {'name': 'EFJohnson Technologies'},\n",
       " {'name': 'NexJ Systems'},\n",
       " {'name': 'Huge'},\n",
       " {'name': 'NewAuto Video Technology'},\n",
       " {'name': 'Netbiscuits'},\n",
       " {'name': 'NetRetail Holding'},\n",
       " {'name': 'Linekong'},\n",
       " {'name': 'Excel Telemarketing'},\n",
       " {'name': 'Tell Me More'},\n",
       " {'name': 'Square'},\n",
       " {'name': 'Interliant'},\n",
       " {'name': 'GRNLive'},\n",
       " {'name': 'VFM Leonardo'},\n",
       " {'name': 'eMeter'},\n",
       " {'name': 'AeroScout'},\n",
       " {'name': 'HauteLook'},\n",
       " {'name': 'Unitrends Software'},\n",
       " {'name': 'Razorsight'},\n",
       " {'name': 'CASAMUNDO'},\n",
       " {'name': 'SourceMedia'},\n",
       " {'name': 'Daimer Industries'},\n",
       " {'name': 'BetterTrades'},\n",
       " {'name': 'Millennial Media'},\n",
       " {'name': 'Veeva'},\n",
       " {'name': 'PSR Productions'},\n",
       " {'name': 'Venere'},\n",
       " {'name': 'Prevail Resources'},\n",
       " {'name': 'Kerio Technologies'},\n",
       " {'name': 'Dimension Funding'},\n",
       " {'name': 'Leapfrog Enterprises'},\n",
       " {'name': 'StorageNetworks'},\n",
       " {'name': 'Digium'},\n",
       " {'name': '2 Minutes'},\n",
       " {'name': 'CFH Docmail'},\n",
       " {'name': 'Quirky'},\n",
       " {'name': 'White House Business Solutions'},\n",
       " {'name': 'Sunrun'},\n",
       " {'name': 'Merchantrms'},\n",
       " {'name': 'MarketsandMarkets'},\n",
       " {'name': 'uttarbharat Inc'},\n",
       " {'name': 'Netcentives'},\n",
       " {'name': 'Wuxi Qiaolian Wind Power Technology'},\n",
       " {'name': 'SLR Consulting'},\n",
       " {'name': 'TRIRIGA'},\n",
       " {'name': '888 Holdings'},\n",
       " {'name': 'Icera'},\n",
       " {'name': 'Ipswitch'},\n",
       " {'name': 'Accurate Background'},\n",
       " {'name': 'Urban Airship'},\n",
       " {'name': 'Binbit'},\n",
       " {'name': 'AMEC'},\n",
       " {'name': 'Novariant'},\n",
       " {'name': 'Netsize'},\n",
       " {'name': 'Tiempo Development'},\n",
       " {'name': 'Tangoe'},\n",
       " {'name': 'Tribold'},\n",
       " {'name': 'Water Health International'},\n",
       " {'name': 'SolaRover'},\n",
       " {'name': 'viastore systems'},\n",
       " {'name': 'Innotech Solar'},\n",
       " {'name': 'Anacomp'},\n",
       " {'name': 'American Land Lease'},\n",
       " {'name': 'Delhitoagra'},\n",
       " {'name': 'Telenity'},\n",
       " {'name': 'UQ Communications'},\n",
       " {'name': 'Avantium Technologies'},\n",
       " {'name': 'Yahoo! Brazil'},\n",
       " {'name': 'Zemoga'},\n",
       " {'name': 'Timetric'},\n",
       " {'name': 'LEVEL Studios'},\n",
       " {'name': 'LearningMate'},\n",
       " {'name': 'Idealo'},\n",
       " {'name': 'Galam'},\n",
       " {'name': 'COA Solutions'},\n",
       " {'name': 'MicroVision'},\n",
       " {'name': 'Imagination Technologies'},\n",
       " {'name': 'Biolex Therapeutics'},\n",
       " {'name': 'Bigpoint'},\n",
       " {'name': 'Pontis'},\n",
       " {'name': 'Audience'},\n",
       " {'name': 'Elite Advanced Laser Corporation'},\n",
       " {'name': 'OpTier'},\n",
       " {'name': 'Varonis Systems'},\n",
       " {'name': 'Postindustria'},\n",
       " {'name': 'Layer 7 Technologies'},\n",
       " {'name': 'Maxymiser'},\n",
       " {'name': 'Anteryon'},\n",
       " {'name': 'Mobile Interactive Group'},\n",
       " {'name': 'StreamBase Systems'},\n",
       " {'name': 'Solairedirect'},\n",
       " {'name': 'SpringSoft'},\n",
       " {'name': 'HighJump Software'},\n",
       " {'name': 'Telogis'},\n",
       " {'name': 'FleetMatics'},\n",
       " {'name': 'Genesis Communications'},\n",
       " {'name': 'Calypso Technology'},\n",
       " {'name': 'IRIS Software Group'},\n",
       " {'name': 'Hifn'},\n",
       " {'name': 'Sky Bird Travel  Tours'},\n",
       " {'name': 'Onsite3'},\n",
       " {'name': 'Tier Technologies'},\n",
       " {'name': 'Tucows'},\n",
       " {'name': 'MentorMate'},\n",
       " {'name': 'Cogniance'},\n",
       " {'name': 'Fuze Box'},\n",
       " {'name': 'Enliven Marketing Technologies'},\n",
       " {'name': 'Avira'},\n",
       " {'name': '800APP'},\n",
       " {'name': 'Optium'},\n",
       " {'name': 'Wondershare Software'},\n",
       " {'name': 'Amber Networks'},\n",
       " {'name': 'NetScaler'},\n",
       " {'name': 'OSA Technologies'},\n",
       " {'name': 'Abilis Solutions'},\n",
       " {'name': 'Catapult Communications'},\n",
       " {'name': 'iomart Group'},\n",
       " {'name': 'Swiftprosys'},\n",
       " {'name': 'G5 Entertainment'},\n",
       " {'name': 'InfoLogix'},\n",
       " {'name': 'smartFOCUS'},\n",
       " {'name': 'TGS Geophysicl'},\n",
       " {'name': 'INX'},\n",
       " {'name': 'Ambassadors Group'},\n",
       " {'name': 'optionsXpress'},\n",
       " {'name': 'Embarcadero Technologies'},\n",
       " {'name': 'AuthenTec'},\n",
       " {'name': 'SheKnows'},\n",
       " {'name': 'Savvion'},\n",
       " {'name': 'Inventa Technologies'},\n",
       " {'name': 'UOL (Universo Online)'},\n",
       " {'name': 'OfficialVirtualDJ'},\n",
       " {'name': 'Willdan Group'},\n",
       " {'name': 'QSGI'}]"
      ]
     },
     "execution_count": 12,
     "metadata": {},
     "output_type": "execute_result"
    }
   ],
   "source": [
    "cond_1: {'founded_month': {'$gte':6}}\n",
    "cond_2: {'founded_month': {'$lte':12}}\n",
    "list(col.find({\n",
    "    '$and':\n",
    "    [cond_1,cond_2]},{'name':1,'_id':0}).limit(1000))"
   ]
  },
  {
   "cell_type": "markdown",
   "metadata": {},
   "source": [
    "### 12. All the companies founded before 2000 that have an acquisition amount of more than 10.000.000"
   ]
  },
  {
   "cell_type": "markdown",
   "metadata": {},
   "source": [
    "founded before 2000 &\n",
    "acq amount gt 10.000.000"
   ]
  },
  {
   "cell_type": "code",
   "execution_count": 13,
   "metadata": {},
   "outputs": [
    {
     "data": {
      "text/plain": [
       "[{'name': 'AdventNet'},\n",
       " {'name': 'AddThis'},\n",
       " {'name': 'OpenX'},\n",
       " {'name': 'LifeLock'},\n",
       " {'name': 'Jajah'},\n",
       " {'name': 'Livestream'},\n",
       " {'name': 'Ustream'},\n",
       " {'name': 'iContact'},\n",
       " {'name': 'Yelp'},\n",
       " {'name': 'Dailymotion'}]"
      ]
     },
     "execution_count": 13,
     "metadata": {},
     "output_type": "execute_result"
    }
   ],
   "source": [
    "cond_1: {'founded_year': {'$lt': 2000}}\n",
    "cond_2: {'acquisition': {'$gt':10000000}}\n",
    "retrieve: {'_id':0, 'name':1}\n",
    "list(col.find({\n",
    "    '$and':\n",
    "    [cond_1,cond_2]},{'name':1,'_id':0}).limit(10))\n"
   ]
  },
  {
   "cell_type": "markdown",
   "metadata": {},
   "source": [
    "### 13. All the companies that have been acquired after 2010, order by the acquisition amount, and retrieve only their `name` and `acquisition` field."
   ]
  },
  {
   "cell_type": "code",
   "execution_count": 14,
   "metadata": {},
   "outputs": [
    {
     "data": {
      "text/plain": [
       "[{'name': 'Wetpaint', 'acquisitions': []},\n",
       " {'name': 'AdventNet', 'acquisitions': []},\n",
       " {'name': 'Digg',\n",
       "  'acquisitions': [{'price_amount': None,\n",
       "    'price_currency_code': 'USD',\n",
       "    'term_code': None,\n",
       "    'source_url': '',\n",
       "    'source_description': '',\n",
       "    'acquired_year': 2009,\n",
       "    'acquired_month': 10,\n",
       "    'acquired_day': 15,\n",
       "    'company': {'name': 'Wefollow', 'permalink': 'wefollow'}}]},\n",
       " {'name': 'Geni', 'acquisitions': []},\n",
       " {'name': 'Fox Interactive Media',\n",
       "  'acquisitions': [{'price_amount': 20000000,\n",
       "    'price_currency_code': 'USD',\n",
       "    'term_code': None,\n",
       "    'source_url': 'http://venturebeat.com/2007/05/30/fox-interactive-confirms-purchase-of-photobucket-and-flektor/',\n",
       "    'source_description': 'Fox Interactive confirms purchase of Photobucket and Flektor',\n",
       "    'acquired_year': 2007,\n",
       "    'acquired_month': 5,\n",
       "    'acquired_day': 30,\n",
       "    'company': {'name': 'Flektor', 'permalink': 'flektor'}},\n",
       "   {'price_amount': 700000000,\n",
       "    'price_currency_code': 'USD',\n",
       "    'term_code': 'cash',\n",
       "    'source_url': None,\n",
       "    'source_description': None,\n",
       "    'acquired_year': 2005,\n",
       "    'acquired_month': 9,\n",
       "    'acquired_day': 1,\n",
       "    'company': {'name': 'IGN Entertainment', 'permalink': 'ignentertainment'}},\n",
       "   {'price_amount': None,\n",
       "    'price_currency_code': 'USD',\n",
       "    'term_code': None,\n",
       "    'source_url': 'http://www.socaltech.com/fox_interactive_acquires_newroo_ksolo_com/s-0003870.html',\n",
       "    'source_description': 'Fox Interactive Acquires Newroo, kSolo.com',\n",
       "    'acquired_year': 2006,\n",
       "    'acquired_month': 5,\n",
       "    'acquired_day': 1,\n",
       "    'company': {'name': 'Newroo', 'permalink': 'newroo'}},\n",
       "   {'price_amount': None,\n",
       "    'price_currency_code': 'USD',\n",
       "    'term_code': None,\n",
       "    'source_url': 'http://www.scout.com/2/430453.html',\n",
       "    'source_description': 'Scout Acquired by Fox',\n",
       "    'acquired_year': 2005,\n",
       "    'acquired_month': 8,\n",
       "    'acquired_day': 5,\n",
       "    'company': {'name': 'Scout.com', 'permalink': 'scout-com'}},\n",
       "   {'price_amount': None,\n",
       "    'price_currency_code': 'USD',\n",
       "    'term_code': None,\n",
       "    'source_url': 'http://www.zdnet.com/blog/btl/fox-interactive-acquires-photobucket-flektor/5191',\n",
       "    'source_description': 'Fox Interactive acquires Photobucket, Flektor',\n",
       "    'acquired_year': 2007,\n",
       "    'acquired_month': 5,\n",
       "    'acquired_day': 30,\n",
       "    'company': {'name': 'Photobucket', 'permalink': 'photobucket'}}]},\n",
       " {'name': 'Scribd', 'acquisitions': []},\n",
       " {'name': 'MeetMoi', 'acquisitions': []},\n",
       " {'name': 'Joost', 'acquisitions': []},\n",
       " {'name': 'Plaxo', 'acquisitions': []},\n",
       " {'name': 'Powerset', 'acquisitions': []}]"
      ]
     },
     "execution_count": 14,
     "metadata": {},
     "output_type": "execute_result"
    }
   ],
   "source": [
    "cond_1: {'acquisition.acquired_year':{'$gt':2010}}\n",
    "retrieve = {'name':1, '_id':0, 'acquisitions':1}\n",
    "\n",
    "list(col.find(cond_1,retrieve).limit(10))"
   ]
  },
  {
   "cell_type": "markdown",
   "metadata": {},
   "source": [
    "### 14. Order the companies by their `founded year`, retrieving only their `name` and `founded year`."
   ]
  },
  {
   "cell_type": "code",
   "execution_count": 15,
   "metadata": {},
   "outputs": [
    {
     "data": {
      "text/plain": [
       "[{'name': 'Wamba', 'founded_year': 2013},\n",
       " {'name': 'Gimigo', 'founded_year': 2013},\n",
       " {'name': 'Clowdy', 'founded_year': 2013},\n",
       " {'name': 'Fluc', 'founded_year': 2013},\n",
       " {'name': 'Advaliant', 'founded_year': 2013},\n",
       " {'name': 'Pikk', 'founded_year': 2013},\n",
       " {'name': 'WhosCall', 'founded_year': 2013},\n",
       " {'name': 'SEOGroup', 'founded_year': 2013},\n",
       " {'name': 'iBazar', 'founded_year': 2013},\n",
       " {'name': 'Fixya', 'founded_year': 2013}]"
      ]
     },
     "execution_count": 15,
     "metadata": {},
     "output_type": "execute_result"
    }
   ],
   "source": [
    "list(col.find({'name': {\"$exists\": True}},{'name':1, '_id':0,'founded_year':1}).sort('founded_year',-1).limit(10))"
   ]
  },
  {
   "cell_type": "markdown",
   "metadata": {},
   "source": [
    "### 15. All the companies that have been founded on the first seven days of the month, including the seventh. Sort them by their `acquisition price` in a descending order. Limit the search to 10 documents."
   ]
  },
  {
   "cell_type": "code",
   "execution_count": 16,
   "metadata": {},
   "outputs": [
    {
     "data": {
      "text/plain": [
       "[{'name': 'Netscape'},\n",
       " {'name': 'PayPal'},\n",
       " {'name': 'Zappos'},\n",
       " {'name': 'Alibaba'},\n",
       " {'name': 'Postini'},\n",
       " {'name': 'Danger'},\n",
       " {'name': 'Clearwell Systems'},\n",
       " {'name': 'PrimeSense'},\n",
       " {'name': 'Amobee'},\n",
       " {'name': 'BlueLithium'}]"
      ]
     },
     "execution_count": 16,
     "metadata": {},
     "output_type": "execute_result"
    }
   ],
   "source": [
    "cond_1 = {'founded_day':{'$lte': 7}}\n",
    "retrieve = {'name':1,'_id':0}\n",
    "list(col.find(cond_1,retrieve).sort('acquisition',-1).limit(10))"
   ]
  },
  {
   "cell_type": "markdown",
   "metadata": {},
   "source": [
    "### 16. All the companies on the 'web' `category` that have more than 4000 employees. Sort them by the amount of employees in ascending order."
   ]
  },
  {
   "cell_type": "code",
   "execution_count": 17,
   "metadata": {},
   "outputs": [
    {
     "data": {
      "text/plain": [
       "[{'name': 'Experian'},\n",
       " {'name': 'eBay'},\n",
       " {'name': 'Yahoo!'},\n",
       " {'name': 'Rakuten'},\n",
       " {'name': 'Los Angeles Times Media Group'},\n",
       " {'name': 'Groupon'},\n",
       " {'name': 'Webkinz'},\n",
       " {'name': 'AOL'},\n",
       " {'name': 'Expedia'},\n",
       " {'name': 'Daum Communications'}]"
      ]
     },
     "execution_count": 17,
     "metadata": {},
     "output_type": "execute_result"
    }
   ],
   "source": [
    "cond_1= {'category_code':'web'} \n",
    "cond_2= {'number_of_employees': {'$gt':4000}}\n",
    "retrieve = {'name':1,'_id':0}\n",
    "list(col.find(cond_1,retrieve).sort('number_of_employees',-1).limit(10))\n"
   ]
  },
  {
   "cell_type": "markdown",
   "metadata": {},
   "source": [
    "### 17. All the companies whose acquisition amount is more than 10.000.000, and currency is 'EUR'."
   ]
  },
  {
   "cell_type": "code",
   "execution_count": 18,
   "metadata": {},
   "outputs": [
    {
     "data": {
      "text/plain": [
       "[{'name': 'ZYB'},\n",
       " {'name': 'Apertio'},\n",
       " {'name': 'Greenfield Online'},\n",
       " {'name': 'Webedia'},\n",
       " {'name': 'Wayfinder'},\n",
       " {'name': 'Tuenti Technologies'},\n",
       " {'name': 'BioMed Central'}]"
      ]
     },
     "execution_count": 18,
     "metadata": {},
     "output_type": "execute_result"
    }
   ],
   "source": [
    "cond_1 = {'acquisition.price_amount':{'$gt':10000000}}\n",
    "cond_2 = {'acquisition.price_currency_code':'EUR'}\n",
    "retrieve = {'name':1, '_id':0}\n",
    "list(col.find({\n",
    "    '$and':\n",
    "    [cond_1,cond_2]},retrieve).limit(10))"
   ]
  },
  {
   "cell_type": "markdown",
   "metadata": {},
   "source": [
    "### 18. All the companies that have been acquired on the first trimester of the year. Limit the search to 10 companies, and retrieve only their `name` and `acquisition` fields."
   ]
  },
  {
   "cell_type": "code",
   "execution_count": 19,
   "metadata": {},
   "outputs": [
    {
     "data": {
      "text/plain": [
       "[{'name': 'ZYB',\n",
       "  'acquisition': {'price_amount': 31500000,\n",
       "   'price_currency_code': 'EUR',\n",
       "   'term_code': 'cash',\n",
       "   'source_url': 'http://www.techcrunch.com/2008/05/16/danish-mobile-social-network-zyb-acquired-by-vodafone-for-e315-million/',\n",
       "   'source_description': 'Danish Network ZYB Acquired By Vodafone For â‚¬31.5 million',\n",
       "   'acquired_year': 2008,\n",
       "   'acquired_month': 5,\n",
       "   'acquired_day': 16,\n",
       "   'acquiring_company': {'name': 'Vodafone', 'permalink': 'vodafone'}}},\n",
       " {'name': 'Apertio',\n",
       "  'acquisition': {'price_amount': 140000000,\n",
       "   'price_currency_code': 'EUR',\n",
       "   'term_code': None,\n",
       "   'source_url': 'http://www.techcrunch.com/2008/01/03/nokia-siemens-acquires-apertio-for-e140m/',\n",
       "   'source_description': 'Nokia Siemens Acquires Apertio For â‚¬140m',\n",
       "   'acquired_year': 2008,\n",
       "   'acquired_month': 1,\n",
       "   'acquired_day': 3,\n",
       "   'acquiring_company': {'name': 'Nokia Siemens Networks',\n",
       "    'permalink': 'nokia-siemens-networks'}}},\n",
       " {'name': 'Greenfield Online',\n",
       "  'acquisition': {'price_amount': 40000000,\n",
       "   'price_currency_code': 'EUR',\n",
       "   'term_code': None,\n",
       "   'source_url': 'http://www.research-live.com/news/m-and-a/toluna-buys-greenfield-online-survey-business-for-$40m/4000346.article',\n",
       "   'source_description': 'Toluna buys Greenfield Online survey business for $40m',\n",
       "   'acquired_year': 2009,\n",
       "   'acquired_month': 6,\n",
       "   'acquired_day': 26,\n",
       "   'acquiring_company': {'name': 'Toluna', 'permalink': 'toluna'}}},\n",
       " {'name': 'Webedia',\n",
       "  'acquisition': {'price_amount': 70000000,\n",
       "   'price_currency_code': 'EUR',\n",
       "   'term_code': None,\n",
       "   'source_url': 'http://www.clipperton.net/transactions/webedia/',\n",
       "   'source_description': 'Webedia, one of the leading digital media groups in France, is acquired by Fimalac Group in a €70m+ transaction.',\n",
       "   'acquired_year': 2013,\n",
       "   'acquired_month': 9,\n",
       "   'acquired_day': 12,\n",
       "   'acquiring_company': {'name': 'Fimalac Group',\n",
       "    'permalink': 'fimalac-group'}}},\n",
       " {'name': 'Wayfinder',\n",
       "  'acquisition': {'price_amount': 24000000,\n",
       "   'price_currency_code': 'EUR',\n",
       "   'term_code': None,\n",
       "   'source_url': 'http://www.techcrunch.com/2008/12/08/vodafone-acquires-swedens-wayfinder-for-e24-million/',\n",
       "   'source_description': \"Vodafone Acquires Sweden's WayFinder For â‚¬24 Million\",\n",
       "   'acquired_year': 2008,\n",
       "   'acquired_month': 12,\n",
       "   'acquired_day': 8,\n",
       "   'acquiring_company': {'name': 'Vodafone', 'permalink': 'vodafone'}}},\n",
       " {'name': 'Tuenti Technologies',\n",
       "  'acquisition': {'price_amount': 70000000,\n",
       "   'price_currency_code': 'EUR',\n",
       "   'term_code': 'cash',\n",
       "   'source_url': 'http://financial.tmcnet.com/mergers-acquisitions/news/2010/08/05/4940696.htm',\n",
       "   'source_description': \"'Telefonica confirms Tuenti stake acquisition'\",\n",
       "   'acquired_year': 1974,\n",
       "   'acquired_month': 7,\n",
       "   'acquired_day': 7,\n",
       "   'acquiring_company': {'name': 'Telefonica', 'permalink': 'telefonica'}}},\n",
       " {'name': 'BioMed Central',\n",
       "  'acquisition': {'price_amount': 43400000,\n",
       "   'price_currency_code': 'EUR',\n",
       "   'term_code': None,\n",
       "   'source_url': 'http://www.springer-sbm.com/index.php?id=291&backPID=131&L=0&tx_tnc_news=4970&cHash=56b1d882b2',\n",
       "   'source_description': 'Springer to acquire BioMed Central Group ',\n",
       "   'acquired_year': 2008,\n",
       "   'acquired_month': 10,\n",
       "   'acquired_day': 6,\n",
       "   'acquiring_company': {'name': 'Springer', 'permalink': 'springer'}}}]"
      ]
     },
     "execution_count": 19,
     "metadata": {},
     "output_type": "execute_result"
    }
   ],
   "source": [
    "cond_1: {'acquisition.acquired_month':{'$gte':1}}\n",
    "cond_2: {'acquisition.acquired_month':{'$lte':3}}\n",
    "retrieve = {'name':1, '_id':0, 'acquisition':1}\n",
    "\n",
    "list(col.find({\n",
    "    '$and':\n",
    "    [cond_1,cond_2]},retrieve).limit(10))"
   ]
  },
  {
   "cell_type": "markdown",
   "metadata": {},
   "source": [
    "# Bonus\n",
    "### 19. All the companies that have been founded between 2000 and 2010, but have not been acquired before 2011."
   ]
  },
  {
   "cell_type": "markdown",
   "metadata": {},
   "source": [
    "condition. 1 :  founded after 2000\n",
    "condition. 2: founded before 2010\n",
    "condition. 3: not acquired before 2011"
   ]
  },
  {
   "cell_type": "code",
   "execution_count": 23,
   "metadata": {},
   "outputs": [
    {
     "data": {
      "text/plain": [
       "[{'name': 'Wetpaint'},\n",
       " {'name': 'Digg'},\n",
       " {'name': 'Geni'},\n",
       " {'name': 'blogTV'},\n",
       " {'name': 'Revision3'}]"
      ]
     },
     "execution_count": 23,
     "metadata": {},
     "output_type": "execute_result"
    }
   ],
   "source": [
    "cond_1 = {'founded_year':{'$gte':2000}}\n",
    "cond_2 = {'founded_year':{'$lte':2010}}\n",
    "cond_3 = {'acquisition.acquired_year':{'$gt':2011}}\n",
    "retrieve = {'name':1, '_id':0}\n",
    "\n",
    "list(col.find({\n",
    "    '$and':\n",
    "    [cond_1,cond_2, cond_3]},retrieve).limit(5))"
   ]
  },
  {
   "cell_type": "markdown",
   "metadata": {},
   "source": [
    "### 20. All the companies that have been 'deadpooled' after the third year."
   ]
  },
  {
   "cell_type": "markdown",
   "metadata": {},
   "source": []
  },
  {
   "cell_type": "markdown",
   "metadata": {},
   "source": [
    "**⚠️ Did you do this?**\n",
    "\n",
    "```python\n",
    "list(collection.find(query))[:5] #or a reasonably low number\n",
    "```"
   ]
  }
 ],
 "metadata": {
  "kernelspec": {
   "display_name": "Python 3 (ipykernel)",
   "language": "python",
   "name": "python3"
  },
  "language_info": {
   "codemirror_mode": {
    "name": "ipython",
    "version": 3
   },
   "file_extension": ".py",
   "mimetype": "text/x-python",
   "name": "python",
   "nbconvert_exporter": "python",
   "pygments_lexer": "ipython3",
   "version": "3.10.8"
  },
  "toc": {
   "base_numbering": 1,
   "nav_menu": {},
   "number_sections": true,
   "sideBar": true,
   "skip_h1_title": false,
   "title_cell": "Table of Contents",
   "title_sidebar": "Contents",
   "toc_cell": false,
   "toc_position": {},
   "toc_section_display": true,
   "toc_window_display": true
  }
 },
 "nbformat": 4,
 "nbformat_minor": 2
}
